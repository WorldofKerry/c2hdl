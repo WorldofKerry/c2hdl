{
 "cells": [
  {
   "cell_type": "code",
   "execution_count": 104,
   "metadata": {},
   "outputs": [],
   "source": [
    "class WhileLoop:\n",
    "    def __init__(self, condition, content, code_before_while, all_code_after_while):\n",
    "        self.condition = condition\n",
    "        self.content = content\n",
    "        self.code_before_while = code_before_while\n",
    "        self.all_code_after_while = all_code_after_while"
   ]
  },
  {
   "cell_type": "code",
   "execution_count": 105,
   "metadata": {},
   "outputs": [],
   "source": [
    "import re\n",
    "\n",
    "def extract_single_outer_while(source):\n",
    "    indent_regex = re.compile(r'^\\s+', flags=re.MULTILINE)\n",
    "    try: \n",
    "        code_before_while = re.sub(indent_regex, '', source[:source.index('while')].strip())\n",
    "    except ValueError:\n",
    "        return WhileLoop(None, None, source, None)\n",
    "\n",
    "    condition_start = re.search('while\\s*\\(', source).end()\n",
    "    condition_end = source.index(')', condition_start)\n",
    "    condition = source[condition_start:condition_end].strip()\n",
    "    \n",
    "    # search for the end } by matching the number of { and } in the content\n",
    "    content_start = source.index('{', condition_end) + 1\n",
    "    brace_count = 1\n",
    "    for i, c in enumerate(source[content_start:]):\n",
    "        if c == '{':\n",
    "            brace_count += 1\n",
    "        elif c == '}':\n",
    "            brace_count -= 1\n",
    "            if brace_count == 0:\n",
    "                content_end = content_start + i\n",
    "                break\n",
    "\n",
    "    content = re.sub(indent_regex, '', source[content_start:content_end].strip())\n",
    "    all_code_after_while = re.sub(indent_regex, '', source[content_end+1:].strip())\n",
    "    return WhileLoop(condition, content, code_before_while, all_code_after_while)"
   ]
  },
  {
   "cell_type": "code",
   "execution_count": 100,
   "metadata": {},
   "outputs": [
    {
     "name": "stdout",
     "output_type": "stream",
     "text": [
      "================================\n",
      "y <= y2\n",
      "================================\n",
      "int x = x1;\n",
      "while (x <= xR)\n",
      "{\n",
      "setPixel(x, y, 1);\n",
      "x++;\n",
      "}\n",
      "while (errR < 0)\n",
      "{\n",
      "xR++;\n",
      "errR = errR + 2 * (y2 - y1);\n",
      "}\n",
      "errR = errR - 2 * (x2 - x1);\n",
      "y++;\n",
      "================================\n",
      "fillTriangle(int x1, int y1, int x2, int y2)\n",
      "{\n",
      "int errR = (y2 - y1) - 2 * (x2 - x1);\n",
      "int xR = x1;\n",
      "int y = y1;\n",
      "================================\n",
      "int counter = 0;\n",
      "while (counter < 10)\n",
      "{\n",
      "counter++;\n",
      "}\n",
      "counter *= 2;\n",
      "}\n"
     ]
    }
   ],
   "source": [
    "# test for extract_single_outer_while(source)\n",
    "with open('source.c', 'r') as f:\n",
    "    source = f.read()\n",
    "loop = extract_single_outer_while(source)\n",
    "print(\"================================\")\n",
    "print(loop.condition)\n",
    "print(\"================================\")\n",
    "print(loop.content)\n",
    "print(\"================================\")\n",
    "print(loop.code_before_while)\n",
    "print(\"================================\")\n",
    "print(loop.all_code_after_while)"
   ]
  },
  {
   "cell_type": "code",
   "execution_count": 108,
   "metadata": {},
   "outputs": [
    {
     "name": "stdout",
     "output_type": "stream",
     "text": [
      "================================\n",
      "fillTriangle(int x1, int y1, int x2, int y2)\n",
      "{\n",
      "int errR = (y2 - y1) - 2 * (x2 - x1);\n",
      "int xR = x1;\n",
      "int y = y1;\n",
      "================================\n",
      "y <= y2\n",
      "================================\n",
      "int x = x1;\n",
      "while (x <= xR)\n",
      "{\n",
      "setPixel(x, y, 1);\n",
      "x++;\n",
      "}\n",
      "while (errR < 0)\n",
      "{\n",
      "xR++;\n",
      "errR = errR + 2 * (y2 - y1);\n",
      "}\n",
      "errR = errR - 2 * (x2 - x1);\n",
      "y++;\n",
      "================================\n",
      "int counter = 0;\n",
      "while (counter < 10)\n",
      "{\n",
      "counter++;\n",
      "}\n",
      "counter *= 2;\n",
      "}\n",
      "================================\n",
      "int counter = 0;\n",
      "================================\n",
      "counter < 10\n",
      "================================\n",
      "counter++;\n",
      "================================\n",
      "counter *= 2;\n",
      "}\n",
      "================================\n",
      "counter *= 2;\n",
      "}\n",
      "================================\n",
      "None\n",
      "================================\n",
      "None\n",
      "================================\n",
      "None\n"
     ]
    }
   ],
   "source": [
    "def extract_multiple_outer_while(source):\n",
    "    all_loops = []\n",
    "    all_loops.append(extract_single_outer_while(source))\n",
    "    while all_loops[-1].all_code_after_while and all_loops[-1].all_code_after_while.strip():\n",
    "        all_loops.append(extract_single_outer_while(all_loops[-1].all_code_after_while))\n",
    "    return all_loops\n",
    "\n",
    "# test for extract_multiple_outer_while(source)\n",
    "with open('source.c', 'r') as f:\n",
    "    source = f.read()\n",
    "loops = extract_multiple_outer_while(source)\n",
    "for loop in loops:\n",
    "    print(\"================================\")\n",
    "    print(loop.code_before_while)\n",
    "    print(\"================================\")\n",
    "    print(loop.condition)\n",
    "    print(\"================================\")\n",
    "    print(loop.content)\n",
    "    print(\"================================\")\n",
    "    print(loop.all_code_after_while)\n"
   ]
  }
 ],
 "metadata": {
  "kernelspec": {
   "display_name": "Python 3",
   "language": "python",
   "name": "python3"
  },
  "language_info": {
   "codemirror_mode": {
    "name": "ipython",
    "version": 3
   },
   "file_extension": ".py",
   "mimetype": "text/x-python",
   "name": "python",
   "nbconvert_exporter": "python",
   "pygments_lexer": "ipython3",
   "version": "3.10.7"
  },
  "orig_nbformat": 4,
  "vscode": {
   "interpreter": {
    "hash": "369f2c481f4da34e4445cda3fffd2e751bd1c4d706f27375911949ba6bb62e1c"
   }
  }
 },
 "nbformat": 4,
 "nbformat_minor": 2
}
