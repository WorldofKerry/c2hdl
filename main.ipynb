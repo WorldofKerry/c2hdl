{
 "cells": [
  {
   "cell_type": "code",
   "execution_count": 1,
   "metadata": {},
   "outputs": [],
   "source": [
    "class WhileLoop:\n",
    "    def __init__(self, condition, content, code_before_while, all_code_after_while):\n",
    "        self.condition = condition\n",
    "        self.content = content\n",
    "        self.code_before_while = code_before_while\n",
    "        self.all_code_after_while = all_code_after_while"
   ]
  },
  {
   "cell_type": "code",
   "execution_count": 2,
   "metadata": {},
   "outputs": [],
   "source": [
    "import re\n",
    "\n",
    "def extract_single_outer_while(source):\n",
    "    indent_regex = re.compile(r'^\\s+', flags=re.MULTILINE)\n",
    "    try: \n",
    "        code_before_while = re.sub(indent_regex, '', source[:source.index('while')].strip())\n",
    "    except ValueError:\n",
    "        return WhileLoop(None, None, source, None)\n",
    "\n",
    "    condition_start = re.search('while\\s*\\(', source).end()\n",
    "    condition_end = source.index(')', condition_start)\n",
    "    condition = source[condition_start:condition_end].strip()\n",
    "    \n",
    "    # search for the end } by matching the number of { and } in the content\n",
    "    content_start = source.index('{', condition_end) + 1\n",
    "    brace_count = 1\n",
    "    for i, c in enumerate(source[content_start:]):\n",
    "        if c == '{':\n",
    "            brace_count += 1\n",
    "        elif c == '}':\n",
    "            brace_count -= 1\n",
    "            if brace_count == 0:\n",
    "                content_end = content_start + i\n",
    "                break\n",
    "\n",
    "    content = re.sub(indent_regex, '', source[content_start:content_end].strip())\n",
    "    all_code_after_while = re.sub(indent_regex, '', source[content_end+1:].strip())\n",
    "    return WhileLoop(condition, content, code_before_while, all_code_after_while)"
   ]
  },
  {
   "cell_type": "code",
   "execution_count": 3,
   "metadata": {},
   "outputs": [
    {
     "name": "stdout",
     "output_type": "stream",
     "text": [
      "================================\n",
      "y <= y2\n",
      "================================\n",
      "int x = x1;\n",
      "while (x <= xR)\n",
      "{\n",
      "plot = 1; \n",
      "x++;\n",
      "}\n",
      "while (errR < 0)\n",
      "{\n",
      "xR++;\n",
      "errR = errR + 2 * (y2 - y1);\n",
      "}\n",
      "errR = errR - 2 * (x2 - x1);\n",
      "y++;\n",
      "================================\n",
      "int errR = (y2 - y1) - 2 * (x2 - x1);\n",
      "int xR = x1;\n",
      "int y = y1;\n",
      "================================\n",
      "int counter = 0;\n",
      "while (counter < 10)\n",
      "{\n",
      "counter++;\n",
      "}\n",
      "counter *= 2;\n"
     ]
    }
   ],
   "source": [
    "# test for extract_single_outer_while(source)\n",
    "with open('source.c', 'r') as f:\n",
    "    source = f.read()\n",
    "loop = extract_single_outer_while(source)\n",
    "print(\"================================\")\n",
    "print(loop.condition)\n",
    "print(\"================================\")\n",
    "print(loop.content)\n",
    "print(\"================================\")\n",
    "print(loop.code_before_while)\n",
    "print(\"================================\")\n",
    "print(loop.all_code_after_while)"
   ]
  },
  {
   "cell_type": "code",
   "execution_count": 4,
   "metadata": {},
   "outputs": [],
   "source": [
    "def extract_multiple_outer_while(source):\n",
    "    # (node, depth)\n",
    "    all_loops = []\n",
    "    all_loops.append((extract_single_outer_while(source), 0))\n",
    "    while all_loops[-1][0].all_code_after_while and all_loops[-1][0].all_code_after_while.strip():\n",
    "        all_loops.append((extract_single_outer_while(all_loops[-1][0].all_code_after_while), all_loops[-1][1]+1))\n",
    "    return all_loops"
   ]
  },
  {
   "cell_type": "code",
   "execution_count": 5,
   "metadata": {},
   "outputs": [
    {
     "name": "stdout",
     "output_type": "stream",
     "text": [
      "int errR = (y2 - y1) - 2 * (x2 - x1);\n",
      "int xR = x1;\n",
      "int y = y1;\n",
      "while ( y <= y2 ) {\n",
      "int x = x1;\n",
      "while (x <= xR)\n",
      "{\n",
      "plot = 1; \n",
      "x++;\n",
      "}\n",
      "while (errR < 0)\n",
      "{\n",
      "xR++;\n",
      "errR = errR + 2 * (y2 - y1);\n",
      "}\n",
      "errR = errR - 2 * (x2 - x1);\n",
      "y++;\n",
      "}\n",
      "int counter = 0;\n",
      "while ( counter < 10 ) {\n",
      "counter++;\n",
      "}\n",
      "counter *= 2;\n"
     ]
    }
   ],
   "source": [
    "# test for extract_multiple_outer_while(source)\n",
    "with open('source.c', 'r') as f:\n",
    "    source = f.read()\n",
    "loops = extract_multiple_outer_while(source)\n",
    "for loop in loops:\n",
    "    print(loop[0].code_before_while)\n",
    "    if (loop[0].condition): \n",
    "        print(\"while (\", loop[0].condition, \") {\")\n",
    "        print(loop[0].content)\n",
    "        print(\"}\")\n"
   ]
  },
  {
   "cell_type": "code",
   "execution_count": 6,
   "metadata": {},
   "outputs": [],
   "source": [
    "class WNode:\n",
    "    def __init__(self, data, children, condition=False):\n",
    "        self.data = data\n",
    "        self.children = children\n",
    "        self.condition = condition\n",
    "        self.variables = {}\n",
    "\n",
    "def build_tree(content):\n",
    "    if (extract_single_outer_while(content).condition == None):\n",
    "        return WNode(content, [])\n",
    "    all_loops = []\n",
    "    all_loops.append(extract_single_outer_while(content))\n",
    "    while all_loops[-1].all_code_after_while and all_loops[-1].all_code_after_while.strip():\n",
    "        all_loops.append(extract_single_outer_while(all_loops[-1].all_code_after_while))\n",
    "    children = []\n",
    "    for loop in all_loops:\n",
    "        if loop.content: \n",
    "            children.append(WNode(loop.code_before_while, []))\n",
    "            children.append(WNode(loop.condition, [build_tree(loop.content)], True))\n",
    "        else: \n",
    "            children.append(WNode(loop.code_before_while, []))\n",
    "    return WNode('', children)\n",
    "\n",
    "def print_while_tree(node, indent=-1):\n",
    "    if node.condition:\n",
    "        print('  '*indent + 'while (' + node.data + ') {')\n",
    "    else: \n",
    "        for line in node.data.splitlines():\n",
    "            print('  '*indent + line)\n",
    "    for child in node.children:\n",
    "        print_while_tree(child, indent+1) \n",
    "    if node.variables: \n",
    "        print('  '*indent + 'Variables: ', end='')\n",
    "        for key in node.variables:\n",
    "            print(key + ' = ' , node.variables[key], end=' ')\n",
    "    if node.condition:\n",
    "        print('  '*indent + '}')"
   ]
  },
  {
   "cell_type": "code",
   "execution_count": 7,
   "metadata": {},
   "outputs": [
    {
     "name": "stdout",
     "output_type": "stream",
     "text": [
      "int errR = (y2 - y1) - 2 * (x2 - x1);\n",
      "int xR = x1;\n",
      "int y = y1;\n",
      "while (y <= y2) {\n",
      "    int x = x1;\n",
      "    while (x <= xR) {\n",
      "      plot = 1; \n",
      "      x++;\n",
      "    }\n",
      "    while (errR < 0) {\n",
      "      xR++;\n",
      "      errR = errR + 2 * (y2 - y1);\n",
      "    }\n",
      "    errR = errR - 2 * (x2 - x1);\n",
      "    y++;\n",
      "}\n",
      "int counter = 0;\n",
      "while (counter < 10) {\n",
      "  counter++;\n",
      "}\n",
      "counter *= 2;\n"
     ]
    }
   ],
   "source": [
    "# test for build_tree(source)\n",
    "with open('source.c', 'r') as f:\n",
    "    source = f.read()\n",
    "tree = build_tree(source)\n",
    "\n",
    "print_while_tree(tree)"
   ]
  },
  {
   "cell_type": "code",
   "execution_count": 8,
   "metadata": {},
   "outputs": [],
   "source": [
    "import re\n",
    "\n",
    "def extract_variables(code):\n",
    "    # Extract variables that start with a letter\n",
    "    variables = re.findall(r'\\b[a-zA-Z]\\w*\\b', code)\n",
    "    return variables\n",
    "\n",
    "def extract_variables_from_tree(node):\n",
    "    variables = []\n",
    "    for line in node.data.splitlines():\n",
    "        variables += extract_variables(line)\n",
    "    for child in node.children:\n",
    "        variables += extract_variables_from_tree(child)\n",
    "    # remove duplicates and sort\n",
    "    variables = list(dict.fromkeys(variables))\n",
    "    variables.sort()\n",
    "    return variables"
   ]
  },
  {
   "cell_type": "code",
   "execution_count": 9,
   "metadata": {},
   "outputs": [
    {
     "name": "stdout",
     "output_type": "stream",
     "text": [
      "['counter', 'errR', 'int', 'plot', 'x', 'x1', 'x2', 'xR', 'y', 'y1', 'y2']\n"
     ]
    }
   ],
   "source": [
    "# test for extract_variables_from_tree(tree)\n",
    "with open('source.c', 'r') as f:\n",
    "    source = f.read()\n",
    "tree = build_tree(source)\n",
    "variables = extract_variables_from_tree(tree)\n",
    "print(variables)"
   ]
  },
  {
   "cell_type": "code",
   "execution_count": 10,
   "metadata": {},
   "outputs": [],
   "source": [
    "def extract_modifications(variable, code): \n",
    "    # Extract modifications of the variable\n",
    "    modifications = re.findall(r'\\b' + variable + r'\\b\\s*=\\s*[^;]+', code)\n",
    "    # keep only the right side of the assignment\n",
    "    modifications = [re.sub(r'\\b' + variable + r'\\b\\s*=\\s*', '', modification) for modification in modifications]\n",
    "    return modifications"
   ]
  },
  {
   "cell_type": "code",
   "execution_count": 11,
   "metadata": {},
   "outputs": [
    {
     "name": "stdout",
     "output_type": "stream",
     "text": [
      "xR++;\n",
      "errR = errR + 2 * (y2 - y1);\n",
      "['errR + 2 * (y2 - y1)']\n"
     ]
    }
   ],
   "source": [
    "# test for extract_modifications(variable, code)\n",
    "with open('source.c', 'r') as f:\n",
    "    source = f.read()\n",
    "tree = build_tree(source)\n",
    "variable = 'errR'\n",
    "node = tree.children[1].children[0].children[3].children[0].data\n",
    "print(node)\n",
    "modifications = extract_modifications(variable, node)\n",
    "print(modifications)"
   ]
  },
  {
   "cell_type": "code",
   "execution_count": 59,
   "metadata": {},
   "outputs": [],
   "source": [
    "def generate_variable_tree(variable, root, modifications): \n",
    "    if root == None or root.children == []:\n",
    "        return None\n",
    "    for child in root.children: \n",
    "        if variable in extract_variables(child.data): \n",
    "            modifications += extract_modifications(variable, child.data)\n",
    "        if variable in extract_variables_from_tree(child):\n",
    "            generate_variable_tree(variable, child, modifications) \n",
    "            # check if variable is in the first modification using regex\n",
    "            local_modifications = modifications.copy()\n",
    "            if re.search(r'\\b' + variable + r'\\b', local_modifications[0]):\n",
    "                # append the variable itself as the first modification\n",
    "                local_modifications.insert(0, variable)\n",
    "            child.variables[variable] = local_modifications\n",
    "    return root"
   ]
  },
  {
   "cell_type": "code",
   "execution_count": 60,
   "metadata": {},
   "outputs": [
    {
     "name": "stdout",
     "output_type": "stream",
     "text": [
      "while (y <= y2) {\n",
      "  int x = x1;\n",
      "  while (x <= xR) {\n",
      "    plot = 1; \n",
      "    x = x + 1;\n",
      "  }\n",
      "  while (errR < 0) {\n",
      "    xR = xR + 1;\n",
      "    errR = errR + 2 * (y2 - y1);\n",
      "    Variables: errR =  ['errR', 'errR + 2 * (y2 - y1)']   Variables: errR =  ['errR', 'errR + 2 * (y2 - y1)']   }\n",
      "  errR = errR - 2 * (x2 - x1);\n",
      "  y = y + 1;\n",
      "  Variables: errR =  ['errR', 'errR + 2 * (y2 - y1)', 'errR - 2 * (x2 - x1)'] y =  ['y', 'y + 1'] Variables: errR =  ['errR', 'errR + 2 * (y2 - y1)', 'errR - 2 * (x2 - x1)'] y =  ['y', 'y + 1'] }\n"
     ]
    }
   ],
   "source": [
    "# test for generate_variable_trees(variables, tree)\n",
    "with open('source.c', 'r') as f:\n",
    "    source = f.read()\n",
    "tree = build_tree(source).children[1]\n",
    "# print_while_tree(tree)\n",
    "variable = 'errR'\n",
    "tree = generate_variable_tree(variable, tree, [])\n",
    "# print_while_tree(tree)\n",
    "\n",
    "variable = 'y'\n",
    "tree = generate_variable_tree(variable, tree, [])\n",
    "print_while_tree(tree)"
   ]
  },
  {
   "cell_type": "code",
   "execution_count": 61,
   "metadata": {},
   "outputs": [],
   "source": [
    "def combine_modifications(variable, modifications): \n",
    "    if not modifications: \n",
    "        return None\n",
    "    combined = modifications[0]\n",
    "    for modification in modifications[1:]:\n",
    "        # search for the variable in the modification\n",
    "        if re.search(r'\\b' + variable + r'\\b', modification):\n",
    "            # if the variable is in the modification, replace it with the combined modification\n",
    "            combined = re.sub(r'\\b' + variable + r'\\b', combined, modification)\n",
    "        else: \n",
    "            # if the variable is not in the modification, append it to the combined modification\n",
    "            combined += modification\n",
    "    return combined"
   ]
  },
  {
   "cell_type": "code",
   "execution_count": 65,
   "metadata": {},
   "outputs": [
    {
     "name": "stdout",
     "output_type": "stream",
     "text": [
      "['errR', 'errR + 2 * (y2 - y1)', 'errR - 2 * (x2 - x1)']\n",
      "errR + 2 * (y2 - y1) - 2 * (x2 - x1)\n",
      "['y', 'y + 1']\n",
      "y + 1\n",
      "['x1']\n",
      "x1\n",
      "['y1', 'y + 1']\n",
      "y1 + 1\n"
     ]
    }
   ],
   "source": [
    "# test for combine_modifications(variables, tree)\n",
    "with open('source.c', 'r') as f:\n",
    "    source = f.read()\n",
    "tree = build_tree(source).children[1]\n",
    "variable = 'errR'\n",
    "tree = generate_variable_tree(variable, tree, [])\n",
    "modifications = tree.children[0].children[4].variables[variable]\n",
    "print(modifications)\n",
    "combined = combine_modifications(variable, modifications)\n",
    "print(combined)\n",
    "\n",
    "variable = 'y'\n",
    "tree = generate_variable_tree(variable, tree, [])\n",
    "modifications = tree.children[0].children[4].variables[variable]\n",
    "print(modifications)\n",
    "combined = combine_modifications(variable, modifications)\n",
    "print(combined)\n",
    "\n",
    "variable = 'x'\n",
    "tree = generate_variable_tree(variable, tree, [])\n",
    "modifications = tree.children[0].children[0].variables[variable]\n",
    "print(modifications)\n",
    "combined = combine_modifications(variable, modifications)\n",
    "print(combined)\n",
    "\n",
    "variable = 'y'\n",
    "tree = build_tree(source)\n",
    "tree = generate_variable_tree(variable, tree, [])\n",
    "modifications = tree.children[1].children[0].children[4].variables[variable]\n",
    "print(modifications)\n",
    "combined = combine_modifications(variable, modifications)\n",
    "print(combined)"
   ]
  },
  {
   "cell_type": "code",
   "execution_count": 13,
   "metadata": {},
   "outputs": [],
   "source": [
    "# chatGPT output for generating state machine\n",
    "def generate_verilog_code():\n",
    "    # Define the parameters of the state machine\n",
    "    num_states = 3\n",
    "    reset_state = 0\n",
    "    output_state = 2\n",
    "\n",
    "    # Generate the Verilog code for the state machine\n",
    "    code = []\n",
    "    code.append(\"module state_machine (\")\n",
    "    code.append(\"  input wire rst,\")\n",
    "    code.append(\"  input wire clk,\")\n",
    "    code.append(\"  input wire start,\")\n",
    "    code.append(\"  output wire done\")\n",
    "    code.append(\");\")\n",
    "    code.append(\"  reg [{}:0] state;\".format(num_states-1))\n",
    "    code.append(\"  always @(posedge clk) begin\")\n",
    "    code.append(\"    if (rst) begin\")\n",
    "    code.append(\"      state <= {};\".format(reset_state))\n",
    "    code.append(\"    end else begin\")\n",
    "    code.append(\"      case (state)\")\n",
    "    for i in range(num_states):\n",
    "        code.append(\"        {'{:0{}b}'.format(i, num_states)}: begin\")\n",
    "        if i == reset_state:\n",
    "            code.append(\"          if (start) begin\")\n",
    "            code.append(\"            state <= {};\".format((i+1) % num_states))\n",
    "            code.append(\"          end\")\n",
    "        else:\n",
    "            code.append(\"          state <= {};\".format((i+1) % num_states))\n",
    "        code.append(\"        end\")\n",
    "    code.append(\"      endcase\")\n",
    "    code.append(\"    end\")\n",
    "    code.append(\"  end\")\n",
    "    code.append(\"  assign done = (state == {});\".format(output_state))\n",
    "    code.append(\"endmodule\")\n",
    "\n",
    "    # Return the generated code as a single string\n",
    "    return \"\\n\".join(code)\n",
    "\n",
    "# Write the generated code to a file\n",
    "with open(\"state_machine.sv\", \"w\") as f:\n",
    "    f.write(generate_verilog_code())"
   ]
  }
 ],
 "metadata": {
  "kernelspec": {
   "display_name": "Python 3",
   "language": "python",
   "name": "python3"
  },
  "language_info": {
   "codemirror_mode": {
    "name": "ipython",
    "version": 3
   },
   "file_extension": ".py",
   "mimetype": "text/x-python",
   "name": "python",
   "nbconvert_exporter": "python",
   "pygments_lexer": "ipython3",
   "version": "3.10.7"
  },
  "orig_nbformat": 4,
  "vscode": {
   "interpreter": {
    "hash": "369f2c481f4da34e4445cda3fffd2e751bd1c4d706f27375911949ba6bb62e1c"
   }
  }
 },
 "nbformat": 4,
 "nbformat_minor": 2
}
