{
 "cells": [
  {
   "cell_type": "code",
   "execution_count": 67,
   "metadata": {},
   "outputs": [
    {
     "name": "stdout",
     "output_type": "stream",
     "text": [
      "================================\n",
      "y <= y2\n",
      "int x = x1;\n",
      "while (x <= xR) {\n",
      "setPixel(x, y, 1);\n",
      "x++;\n",
      "}\n",
      "while (errR < 0) {\n",
      "xR++;\n",
      "errR = errR + 2*(y2-y1);\n",
      "}\n",
      "errR = errR - 2*(x2-x1);\n",
      "y++;\n",
      "================================\n"
     ]
    }
   ],
   "source": [
    "import re\n",
    "\n",
    "class WhileLoop:\n",
    "    def __init__(self, condition, content):\n",
    "        self.condition = condition\n",
    "        self.content = content\n",
    "\n",
    "# Open the C source file and read its contents into a string\n",
    "with open('source.c', 'r') as f:\n",
    "    source = f.read()\n",
    "\n",
    "# Find the start and end indices of the while loop\n",
    "brace_count = 1\n",
    "condition_start = re.search('while\\s*\\(', source).end()\n",
    "condition_end = source.index(')', condition_start)\n",
    "\n",
    "content_start = source.index('{', condition_end) + 1\n",
    "condition = source[condition_start:condition_end].strip()\n",
    "for i, c in enumerate(source[content_start:]):\n",
    "    if c == '{':\n",
    "        brace_count += 1\n",
    "    elif c == '}':\n",
    "        brace_count -= 1\n",
    "        if brace_count == 0:\n",
    "            content_end = content_start + i\n",
    "            break\n",
    "# remove indents\n",
    "content = re.sub(r'^\\s+|\\s+$', '', source[content_start:content_end].strip(), flags=re.MULTILINE)\n",
    "print(\"================================\")\n",
    "loop = WhileLoop(condition, content)\n",
    "print(loop.condition)\n",
    "print(loop.content)\n",
    "print(\"================================\")\n"
   ]
  },
  {
   "cell_type": "code",
   "execution_count": 9,
   "metadata": {},
   "outputs": [],
   "source": [
    "def print_while_tree(tree, indent=0):\n",
    "    for node in tree:\n",
    "        print(\" \" * indent + f\"while ({node.condition}) {{\")\n",
    "        print_while_tree(node.children, indent + 4)\n",
    "        print(\" \" * indent + \"}\")\n",
    "\n",
    "# Print the while loop tree\n",
    "print_while_tree(tree)\n"
   ]
  }
 ],
 "metadata": {
  "kernelspec": {
   "display_name": "Python 3",
   "language": "python",
   "name": "python3"
  },
  "language_info": {
   "codemirror_mode": {
    "name": "ipython",
    "version": 3
   },
   "file_extension": ".py",
   "mimetype": "text/x-python",
   "name": "python",
   "nbconvert_exporter": "python",
   "pygments_lexer": "ipython3",
   "version": "3.10.7"
  },
  "orig_nbformat": 4,
  "vscode": {
   "interpreter": {
    "hash": "369f2c481f4da34e4445cda3fffd2e751bd1c4d706f27375911949ba6bb62e1c"
   }
  }
 },
 "nbformat": 4,
 "nbformat_minor": 2
}
