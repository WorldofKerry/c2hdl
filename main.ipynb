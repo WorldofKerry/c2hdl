{
 "cells": [
  {
   "cell_type": "code",
   "execution_count": 1,
   "metadata": {},
   "outputs": [],
   "source": [
    "class WhileLoop:\n",
    "    def __init__(self, condition, content, code_before_while, all_code_after_while):\n",
    "        self.condition = condition\n",
    "        self.content = content\n",
    "        self.code_before_while = code_before_while\n",
    "        self.all_code_after_while = all_code_after_while"
   ]
  },
  {
   "cell_type": "code",
   "execution_count": 2,
   "metadata": {},
   "outputs": [],
   "source": [
    "import re\n",
    "\n",
    "def extract_single_outer_while(source):\n",
    "    indent_regex = re.compile(r'^\\s+', flags=re.MULTILINE)\n",
    "    try: \n",
    "        code_before_while = re.sub(indent_regex, '', source[:source.index('while')].strip())\n",
    "    except ValueError:\n",
    "        return WhileLoop(None, None, source, None)\n",
    "\n",
    "    condition_start = re.search('while\\s*\\(', source).end()\n",
    "    condition_end = source.index(')', condition_start)\n",
    "    condition = source[condition_start:condition_end].strip()\n",
    "    \n",
    "    # search for the end } by matching the number of { and } in the content\n",
    "    content_start = source.index('{', condition_end) + 1\n",
    "    brace_count = 1\n",
    "    for i, c in enumerate(source[content_start:]):\n",
    "        if c == '{':\n",
    "            brace_count += 1\n",
    "        elif c == '}':\n",
    "            brace_count -= 1\n",
    "            if brace_count == 0:\n",
    "                content_end = content_start + i\n",
    "                break\n",
    "\n",
    "    content = re.sub(indent_regex, '', source[content_start:content_end].strip())\n",
    "    all_code_after_while = re.sub(indent_regex, '', source[content_end+1:].strip())\n",
    "    return WhileLoop(condition, content, code_before_while, all_code_after_while)"
   ]
  },
  {
   "cell_type": "code",
   "execution_count": 3,
   "metadata": {},
   "outputs": [
    {
     "name": "stdout",
     "output_type": "stream",
     "text": [
      "================================\n",
      "y <= y2\n",
      "================================\n",
      "int x = x1;\n",
      "while (x <= xR)\n",
      "{\n",
      "setPixel(x, y, 1);\n",
      "x++;\n",
      "}\n",
      "while (errR < 0)\n",
      "{\n",
      "xR++;\n",
      "errR = errR + 2 * (y2 - y1);\n",
      "}\n",
      "errR = errR - 2 * (x2 - x1);\n",
      "y++;\n",
      "================================\n",
      "int errR = (y2 - y1) - 2 * (x2 - x1);\n",
      "int xR = x1;\n",
      "int y = y1;\n",
      "================================\n",
      "int counter = 0;\n",
      "while (counter < 10)\n",
      "{\n",
      "counter++;\n",
      "}\n",
      "counter *= 2;\n"
     ]
    }
   ],
   "source": [
    "# test for extract_single_outer_while(source)\n",
    "with open('source.c', 'r') as f:\n",
    "    source = f.read()\n",
    "loop = extract_single_outer_while(source)\n",
    "print(\"================================\")\n",
    "print(loop.condition)\n",
    "print(\"================================\")\n",
    "print(loop.content)\n",
    "print(\"================================\")\n",
    "print(loop.code_before_while)\n",
    "print(\"================================\")\n",
    "print(loop.all_code_after_while)"
   ]
  },
  {
   "cell_type": "code",
   "execution_count": 4,
   "metadata": {},
   "outputs": [],
   "source": [
    "def extract_multiple_outer_while(source):\n",
    "    # (node, depth)\n",
    "    all_loops = []\n",
    "    all_loops.append((extract_single_outer_while(source), 0))\n",
    "    while all_loops[-1][0].all_code_after_while and all_loops[-1][0].all_code_after_while.strip():\n",
    "        all_loops.append((extract_single_outer_while(all_loops[-1][0].all_code_after_while), all_loops[-1][1]+1))\n",
    "    return all_loops"
   ]
  },
  {
   "cell_type": "code",
   "execution_count": 5,
   "metadata": {},
   "outputs": [
    {
     "name": "stdout",
     "output_type": "stream",
     "text": [
      "int errR = (y2 - y1) - 2 * (x2 - x1);\n",
      "int xR = x1;\n",
      "int y = y1;\n",
      "while ( y <= y2 ) {\n",
      "int x = x1;\n",
      "while (x <= xR)\n",
      "{\n",
      "setPixel(x, y, 1);\n",
      "x++;\n",
      "}\n",
      "while (errR < 0)\n",
      "{\n",
      "xR++;\n",
      "errR = errR + 2 * (y2 - y1);\n",
      "}\n",
      "errR = errR - 2 * (x2 - x1);\n",
      "y++;\n",
      "}\n",
      "int counter = 0;\n",
      "while ( counter < 10 ) {\n",
      "counter++;\n",
      "}\n",
      "counter *= 2;\n"
     ]
    }
   ],
   "source": [
    "# test for extract_multiple_outer_while(source)\n",
    "with open('source.c', 'r') as f:\n",
    "    source = f.read()\n",
    "loops = extract_multiple_outer_while(source)\n",
    "for loop in loops:\n",
    "    print(loop[0].code_before_while)\n",
    "    if (loop[0].condition): \n",
    "        print(\"while (\", loop[0].condition, \") {\")\n",
    "        print(loop[0].content)\n",
    "        print(\"}\")\n"
   ]
  },
  {
   "cell_type": "code",
   "execution_count": 13,
   "metadata": {},
   "outputs": [
    {
     "name": "stdout",
     "output_type": "stream",
     "text": [
      "int errR = (y2 - y1) - 2 * (x2 - x1);\n",
      "int xR = x1;\n",
      "int y = y1;\n",
      "while (y <= y2) {\n",
      "    int x = x1;\n",
      "    while (x <= xR) {\n",
      "      setPixel(x, y, 1);\n",
      "      x++;\n",
      "    }\n",
      "    while (errR < 0) {\n",
      "      xR++;\n",
      "      errR = errR + 2 * (y2 - y1);\n",
      "    }\n",
      "    errR = errR - 2 * (x2 - x1);\n",
      "    y++;\n",
      "}\n",
      "int counter = 0;\n",
      "while (counter < 10) {\n",
      "  counter++;\n",
      "}\n",
      "counter *= 2;\n"
     ]
    }
   ],
   "source": [
    "class Node:\n",
    "    def __init__(self, data, children, condition=False):\n",
    "        self.data = data\n",
    "        self.children = children\n",
    "        self.condition = condition\n",
    "\n",
    "def build_tree(content):\n",
    "    if (extract_single_outer_while(content).condition == None):\n",
    "        return Node(content, [])\n",
    "    all_loops = []\n",
    "    all_loops.append(extract_single_outer_while(content))\n",
    "    while all_loops[-1].all_code_after_while and all_loops[-1].all_code_after_while.strip():\n",
    "        all_loops.append(extract_single_outer_while(all_loops[-1].all_code_after_while))\n",
    "    children = []\n",
    "    for loop in all_loops:\n",
    "        if loop.content: \n",
    "            children.append(Node(loop.code_before_while, []))\n",
    "            children.append(Node(loop.condition, [build_tree(loop.content)], True))\n",
    "        else: \n",
    "            children.append(Node(loop.code_before_while, []))\n",
    "    return Node('', children)\n",
    "\n",
    "# test for build_tree(loop)\n",
    "with open('source.c', 'r') as f:\n",
    "    source = f.read()\n",
    "tree = build_tree(source)\n",
    "\n",
    "def print_tree(node, indent=-1):\n",
    "    # print('  '*indent + node.data)\n",
    "    # print with indent in every line in node.data\n",
    "    if node.condition:\n",
    "        print('  '*indent + 'while (' + node.data + ') {')\n",
    "    else: \n",
    "        for line in node.data.splitlines():\n",
    "            print('  '*indent + line)\n",
    "    for child in node.children:\n",
    "        print_tree(child, indent+1) \n",
    "    if node.condition:\n",
    "        print('  '*indent + '}')\n",
    "\n",
    "# test for print_tree(tree)\n",
    "print_tree(tree)"
   ]
  }
 ],
 "metadata": {
  "kernelspec": {
   "display_name": "Python 3",
   "language": "python",
   "name": "python3"
  },
  "language_info": {
   "codemirror_mode": {
    "name": "ipython",
    "version": 3
   },
   "file_extension": ".py",
   "mimetype": "text/x-python",
   "name": "python",
   "nbconvert_exporter": "python",
   "pygments_lexer": "ipython3",
   "version": "3.10.7"
  },
  "orig_nbformat": 4,
  "vscode": {
   "interpreter": {
    "hash": "369f2c481f4da34e4445cda3fffd2e751bd1c4d706f27375911949ba6bb62e1c"
   }
  }
 },
 "nbformat": 4,
 "nbformat_minor": 2
}
