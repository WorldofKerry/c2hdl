{
 "cells": [
  {
   "cell_type": "code",
   "execution_count": 1,
   "metadata": {},
   "outputs": [],
   "source": [
    "import re\n",
    "\n",
    "def extract_if_block(source: str) -> tuple((str, str, str, str)):\n",
    "    \"\"\"\n",
    "    Extracts the first if block from the source code.\n",
    "    Returns a tuple of the code before the block, the condition, the content of the block, and the code after the block.\n",
    "    \"\"\"\n",
    "\n",
    "    indent_regex = re.compile(r'^\\s+', flags=re.MULTILINE)\n",
    "    try: \n",
    "        code_before_block = re.sub(indent_regex, '', source[:source.index('if')].strip())\n",
    "    except ValueError:\n",
    "        return source, None, None, None\n",
    "\n",
    "    condition_start = re.search('if\\s*\\(', source).end()\n",
    "    condition_end = source.index(')', condition_start)\n",
    "    condition = source[condition_start:condition_end].strip()\n",
    "    \n",
    "    # search for the end } by matching the number of { and } in the content\n",
    "    content_start = source.index('{', condition_end) + 1\n",
    "    brace_count = 1\n",
    "    for i, c in enumerate(source[content_start:]):\n",
    "        if c == '{':\n",
    "            brace_count += 1\n",
    "        elif c == '}':\n",
    "            brace_count -= 1\n",
    "            if brace_count == 0:\n",
    "                content_end = content_start + i\n",
    "                break\n",
    "\n",
    "    content = re.sub(indent_regex, '', source[content_start:content_end].strip())\n",
    "    all_code_after_block = re.sub(indent_regex, '', source[content_end+1:].strip())\n",
    "    return code_before_block, condition, content, all_code_after_block"
   ]
  },
  {
   "cell_type": "code",
   "execution_count": 2,
   "metadata": {},
   "outputs": [
    {
     "name": "stdout",
     "output_type": "stream",
     "text": [
      "================================ before: \n",
      "a = 10;\n",
      "================================ condition: \n",
      "a < b\n",
      "================================ content: \n",
      "a = a + 1; \n",
      "b = 12; \n",
      "if (a > b) {\n",
      "a = a + 14; \n",
      "}\n",
      "c = 11;\n",
      "================================ after: \n",
      "c = 123;\n"
     ]
    }
   ],
   "source": [
    "with open('source.c', 'r') as f:\n",
    "    source = f.read()\n",
    "code_before_block, condition, content, all_code_after_block = extract_if_block(source)\n",
    "print(\"================================ before: \")\n",
    "print(code_before_block)\n",
    "print(\"================================ condition: \")\n",
    "print(condition)\n",
    "print(\"================================ content: \")\n",
    "print(content)\n",
    "print(\"================================ after: \")\n",
    "print(all_code_after_block)"
   ]
  },
  {
   "cell_type": "code",
   "execution_count": 3,
   "metadata": {},
   "outputs": [],
   "source": [
    "class IfNode: \n",
    "    \"\"\"\n",
    "    Represents a node in the if tree.\n",
    "    \"\"\"\n",
    "    def __init__(self, data: str, children: list, condition: bool=False):\n",
    "        self.data: str = data\n",
    "        self.children: list[IfNode] = children\n",
    "        self.condition: bool = condition\n",
    "        self.variables: dict[str: str] = {} # {variable: modification}"
   ]
  },
  {
   "cell_type": "code",
   "execution_count": 4,
   "metadata": {},
   "outputs": [],
   "source": [
    "def build_iftree_helper(parent: IfNode, content: str) -> IfNode: \n",
    "    \"\"\"\n",
    "    Builds the if tree recursively.\n",
    "    \"\"\"\n",
    "    if not content: \n",
    "        return\n",
    "    code_before_block, condition, content, all_code_after_block = extract_if_block(content)\n",
    "    if code_before_block:\n",
    "        parent.children.append(IfNode(code_before_block, []))\n",
    "    if condition: \n",
    "        wNode = IfNode(condition, [], True)\n",
    "        parent.children.append(wNode)\n",
    "        build_iftree_helper(wNode, content)\n",
    "        build_iftree_helper(parent, all_code_after_block)\n",
    "    return parent\n",
    "\n",
    "def build_iftree(content: str) -> IfNode: \n",
    "    \"\"\"\n",
    "    Builds the if tree from the source code.\n",
    "    \"\"\"\n",
    "    wNode = IfNode('__root__', [])\n",
    "    return build_iftree_helper(wNode, content)"
   ]
  },
  {
   "cell_type": "code",
   "execution_count": 33,
   "metadata": {},
   "outputs": [],
   "source": [
    "def print_iftree(node: IfNode, indent: int=-1, childNum: list=[]) -> None:\n",
    "    \"\"\"\n",
    "    Prints the if tree, with indentation and child numbers for easier selection. \n",
    "    \"\"\"\n",
    "    if node.condition:\n",
    "        print('  '*indent + 'if (' + node.data + ') {', '->', 'selection:', childNum, 'variables:', node.variables)\n",
    "    else: \n",
    "        for line in node.data.splitlines():\n",
    "            print('  '*indent + line, '->', 'selection:', childNum, 'variables:', node.variables)\n",
    "    for idx, child in enumerate(node.children):\n",
    "        print_iftree(child, indent+1, childNum + [idx]) \n",
    "    if node.condition:\n",
    "        print('  '*indent + '}')"
   ]
  },
  {
   "cell_type": "code",
   "execution_count": 34,
   "metadata": {},
   "outputs": [
    {
     "name": "stdout",
     "output_type": "stream",
     "text": [
      "__root__ -> selection: [] variables: []\n",
      "a = 10; -> selection: [0] variables: []\n",
      "if (a < b) { -> selection: [1] variables: []\n",
      "  a = a + 1;  -> selection: [1, 0] variables: []\n",
      "  b = 12; -> selection: [1, 0] variables: []\n",
      "  if (a > b) { -> selection: [1, 1] variables: []\n",
      "    a = a + 14; -> selection: [1, 1, 0] variables: []\n",
      "  }\n",
      "  c = 11; -> selection: [1, 2] variables: []\n",
      "}\n",
      "c = 123; -> selection: [2] variables: []\n"
     ]
    }
   ],
   "source": [
    "with open('source.c', 'r') as f:\n",
    "    source = f.read()\n",
    "tree = build_iftree(source)\n",
    "print_iftree(tree)"
   ]
  },
  {
   "cell_type": "code",
   "execution_count": 35,
   "metadata": {},
   "outputs": [],
   "source": [
    "import re\n",
    "def extract_vars(code: str) -> list[str]:\n",
    "    \"\"\"\n",
    "    Extracts all variables from a line of code.\n",
    "    \"\"\"\n",
    "    # Extract variables that start with a letter\n",
    "    variables = re.findall(r'\\b[a-zA-Z]\\w*\\b', code)\n",
    "    # remove keywords in C, such as int, float, double, etc.\n",
    "    variables = [var for var in variables if var not in ['int', 'float', 'double', 'char', 'long', 'short', 'signed', 'unsigned', 'void', 'bool', 'true', 'false', 'if', 'else', 'while', 'for', 'do', 'switch', 'case', 'break', 'continue', 'return', 'goto', 'sizeof', 'typedef', 'struct', 'union', 'enum', 'static', 'extern', 'auto', 'register', 'const', 'volatile', 'inline', 'restrict', 'default', 'asm', 'alignas', 'alignof', 'atomic', 'noreturn', 'thread_local', 'complex', 'imaginary', 'NULL', 'offsetof', 'static_assert', 'wchar_t']]\n",
    "    # remove duplicates and sort\n",
    "    variables = list(dict.fromkeys(variables))\n",
    "    variables.sort()\n",
    "    return variables\n",
    "\n",
    "def extract_vars_from_iftree(node: IfNode) -> list[str]:\n",
    "    \"\"\"\n",
    "    Extracts all variables from the if tree.\n",
    "    \"\"\"\n",
    "    variables = []\n",
    "    for line in node.data.splitlines():\n",
    "        variables += extract_vars(line)\n",
    "    for child in node.children:\n",
    "        variables += extract_vars_from_iftree(child)\n",
    "    # remove duplicates and sort\n",
    "    variables = list(dict.fromkeys(variables))\n",
    "    variables.sort()\n",
    "    return variables"
   ]
  },
  {
   "cell_type": "code",
   "execution_count": 36,
   "metadata": {},
   "outputs": [
    {
     "name": "stdout",
     "output_type": "stream",
     "text": [
      "['a', 'b']\n",
      "['a', 'b', 'c']\n"
     ]
    }
   ],
   "source": [
    "with open('source.c', 'r') as f:\n",
    "    source = f.read()\n",
    "tree = build_iftree(source)\n",
    "test_string = 'int b = 1; int a = 2; int b = 3;'\n",
    "print(extract_vars(test_string))\n",
    "print(extract_vars_from_iftree(tree))"
   ]
  },
  {
   "cell_type": "code",
   "execution_count": 37,
   "metadata": {},
   "outputs": [],
   "source": [
    "def extract_modifications(variable: str, code: str) -> list[str]:\n",
    "    \"\"\"\n",
    "    Extracts all modifications of a variable in a line of code.\n",
    "    \"\"\"\n",
    "    # Extract modifications of the variable\n",
    "    modifications = re.findall(r'\\b' + variable + r'\\b\\s*=\\s*[^;]+', code)\n",
    "    # keep only the right side of the assignment\n",
    "    modifications = [re.sub(r'\\b' + variable + r'\\b\\s*=\\s*', '', modification) for modification in modifications]\n",
    "    return modifications"
   ]
  },
  {
   "cell_type": "code",
   "execution_count": 38,
   "metadata": {},
   "outputs": [
    {
     "name": "stdout",
     "output_type": "stream",
     "text": [
      "['10']\n",
      "['a + 1']\n"
     ]
    }
   ],
   "source": [
    "with open('source.c', 'r') as f:\n",
    "    source = f.read()\n",
    "tree = build_iftree(source)\n",
    "print(extract_modifications('a', tree.children[0].data))\n",
    "print(extract_modifications('a', tree.children[1].children[0].data))"
   ]
  },
  {
   "cell_type": "code",
   "execution_count": 82,
   "metadata": {},
   "outputs": [],
   "source": [
    "def gen_var_tree_helper(variable: str, root: IfNode, parent: IfNode, depth: int) -> None: \n",
    "    \"\"\"\n",
    "    Helper function for gen_var_tree.\n",
    "    \"\"\"\n",
    "    if not root:\n",
    "        return []\n",
    "    if extract_modifications(variable, root.data) and not root.condition: \n",
    "        if len(root.variables) == 0: \n",
    "            print(\"HERE\")\n",
    "            root.variables.append(Mutation({variable: [extract_modifications(variable, root.data)[0]]}, None))\n",
    "        else:        \n",
    "            print(root.variables, depth)\n",
    "            while len(root.variables) <= depth:\n",
    "                print(root.variables, depth)\n",
    "                root.variables.append(Mutation(root.variables[depth-1].variables, ''))\n",
    "            if root.variables[depth].condition == '': \n",
    "                root.variables[depth].condition = parent.data\n",
    "            elif root.variables[depth].condition != parent.data:\n",
    "                print(\"gen_var_tree_helper: condition mismatch:\", root.variables[depth].condition, parent.data)\n",
    "            if depth == 0 or variable not in root.variables[depth-1].variables: \n",
    "                root.variables[depth].variables[variable] = [extract_modifications(variable, root.data)[0]]     \n",
    "            else:      \n",
    "                root.variables[depth].variables[variable] = root.variables[depth-1].variables[variable] + [extract_modifications(variable, root.data)[0]]\n",
    "            print(\"depth:\", depth, \"mutation:\", root.variables[depth].variables[variable])\n",
    "    return root.variables\n",
    "\n",
    "def gen_var_tree(variable: str, node: IfNode, mutations: list[Mutation], parent: IfNode=None, depth: int=0) -> list[Mutation]: \n",
    "    \"\"\"\n",
    "    Updates/mutates the variable property of the node and its children using pre-order traversal.\n",
    "    \"\"\"\n",
    "    if not node: \n",
    "        return [] \n",
    "    mutations = gen_var_tree_helper(variable, node, mutations, parent, depth)\n",
    "    for child in node.children:\n",
    "        mutations = gen_var_tree(variable, child, mutations, node, depth+1)\n",
    "    return mutations"
   ]
  },
  {
   "cell_type": "code",
   "execution_count": 83,
   "metadata": {},
   "outputs": [
    {
     "name": "stdout",
     "output_type": "stream",
     "text": [
      "HERE\n",
      "HERE\n",
      "HERE\n",
      "__root__ -> selection: [] variables: []\n",
      "a = 10; -> selection: [0] variables: [[]]\n",
      "if (a < b) { -> selection: [1] variables: []\n",
      "  a = a + 1;  -> selection: [1, 0] variables: [[]]\n",
      "  b = 12; -> selection: [1, 0] variables: [[]]\n",
      "  if (a > b) { -> selection: [1, 1] variables: []\n",
      "    a = a + 14; -> selection: [1, 1, 0] variables: [[]]\n",
      "  }\n",
      "  c = 11; -> selection: [1, 2] variables: []\n",
      "}\n",
      "c = 123; -> selection: [2] variables: []\n"
     ]
    }
   ],
   "source": [
    "with open('source.c', 'r') as f:\n",
    "    source = f.read()\n",
    "tree = build_iftree(source)\n",
    "gen_var_tree('a', tree, [])\n",
    "print_iftree(tree)"
   ]
  },
  {
   "cell_type": "code",
   "execution_count": null,
   "metadata": {},
   "outputs": [],
   "source": [
    "def get_combined_mutations(mutations: list[Mutation], variable: str) -> str: \n",
    "    \"\"\"\n",
    "    Combines all mutations of a variable into a single string.\n",
    "    \"\"\"\n",
    "    prev_mutated = \"\"\n",
    "    while mutations: \n",
    "        mutation = mutations.pop(0)\n",
    "        if re.search(r'\\b' + variable + r'\\b', prev_mutated):\n",
    "            # if the variable is in the modification, replace it with the combined modification\n",
    "            prev_mutated = re.sub(r'\\b' + variable + r'\\b', prev_mutated, mutation.modification)\n",
    "        else: \n",
    "            # if the variable is not in the modification, append it to the combined modification\n",
    "            if prev_mutated.strip():\n",
    "                # check if variable is inside the modification\n",
    "                if re.search(r'\\b' + variable + r'\\b', mutation.modification):\n",
    "                    prev_mutated = re.sub(r'\\b' + variable + r'\\b', prev_mutated, mutation.modification)\n",
    "                else: \n",
    "                    prev_mutated = prev_mutated + ' + ' + mutation.modification\n",
    "            else: \n",
    "                prev_mutated = mutation.modification\n",
    "    if not prev_mutated.strip():\n",
    "        prev_mutated = variable\n",
    "    return prev_mutated\n",
    "\n",
    "def print_mutation_if(mutations: list[Mutation], index: int, variable: str, decision_tree: list[bool]) -> None: \n",
    "    \"\"\"\n",
    "    Prints the if statement for a mutation.\n",
    "    \"\"\"\n",
    "    mutation = mutations[index]\n",
    "    mutations = [mutation for mutation, decision in zip(mutations, decision_tree) if decision]\n",
    "    prev_mutated = get_combined_mutations(mutations, variable)\n",
    "    mutation.condition = re.sub(r'\\b' + variable + r'\\b', prev_mutated, mutation.condition)\n",
    "    print('  ' * (index) + 'if (', mutation.condition, ') begin')\n",
    "    return\n",
    "\n",
    "def print_mutation_else(mutations: list[Mutation], index: int) -> None: \n",
    "    \"\"\"\n",
    "    Prints the else statement for a mutation.\n",
    "    \"\"\"\n",
    "    print('  ' * (index) + 'end else begin')\n",
    "    return\n",
    "\n",
    "def print_mutation_end(mutations: list[Mutation], index: int) -> None: \n",
    "    \"\"\"\n",
    "    Prints the end statement for a mutation.\n",
    "    \"\"\"\n",
    "    print('  ' * (index) + 'end')\n",
    "    return\n",
    "\n",
    "def print_mutation(mutations: list[Mutation], index: int, variable: str, decision_tree: list[bool]) -> None: \n",
    "    \"\"\"\n",
    "    Prints the mutation.\n",
    "    \"\"\"\n",
    "    mutations = [mutation for mutation, decision in zip(mutations, decision_tree) if decision]\n",
    "    prev_mutated = get_combined_mutations(mutations, variable)\n",
    "    print('  ' * (index) + variable , '<=', prev_mutated)\n",
    "    return\n",
    "\n",
    "def print_mutation_tree(mutations: list[Mutation], index: int, variable: str, decision_tree: list[bool]) -> None: \n",
    "    \"\"\"\n",
    "    Prints the mutation tree.\n",
    "    \"\"\"\n",
    "    if index == len(mutations):\n",
    "        print_mutation(mutations, index, variable, decision_tree)\n",
    "        return\n",
    "    mutation = mutations[index]\n",
    "    if mutation.condition.strip():\n",
    "        print_mutation_if(mutations, index, variable, decision_tree)\n",
    "        print_mutation_tree(mutations, index+1, variable, decision_tree + [True])\n",
    "        print_mutation_else(mutations, index)\n",
    "        print_mutation_tree(mutations, index+1, variable, decision_tree + [False])\n",
    "        print_mutation_end(mutations, index)"
   ]
  },
  {
   "cell_type": "code",
   "execution_count": null,
   "metadata": {},
   "outputs": [
    {
     "name": "stdout",
     "output_type": "stream",
     "text": [
      "gen_var_tree_helper: condition mismatch\n"
     ]
    },
    {
     "ename": "AttributeError",
     "evalue": "'Mutation' object has no attribute 'modifications'",
     "output_type": "error",
     "traceback": [
      "\u001b[1;31m---------------------------------------------------------------------------\u001b[0m",
      "\u001b[1;31mAttributeError\u001b[0m                            Traceback (most recent call last)",
      "Cell \u001b[1;32mIn [26], line 5\u001b[0m\n\u001b[0;32m      3\u001b[0m tree \u001b[39m=\u001b[39m build_iftree(source)\n\u001b[0;32m      4\u001b[0m variable \u001b[39m=\u001b[39m \u001b[39m'\u001b[39m\u001b[39ma\u001b[39m\u001b[39m'\u001b[39m\n\u001b[1;32m----> 5\u001b[0m gen_var_tree(variable, tree, [])\n\u001b[0;32m      6\u001b[0m print_iftree(tree)\n\u001b[0;32m      7\u001b[0m mutations \u001b[39m=\u001b[39m tree\u001b[39m.\u001b[39mchildren[\u001b[39m1\u001b[39m]\u001b[39m.\u001b[39mchildren[\u001b[39m1\u001b[39m]\u001b[39m.\u001b[39mchildren[\u001b[39m0\u001b[39m]\u001b[39m.\u001b[39mvariables[variable]\n",
      "Cell \u001b[1;32mIn [24], line 41\u001b[0m, in \u001b[0;36mgen_var_tree\u001b[1;34m(variable, node, mutations, parent, depth)\u001b[0m\n\u001b[0;32m     39\u001b[0m mutations \u001b[39m=\u001b[39m gen_var_tree_helper(variable, node, mutations, parent, depth)\n\u001b[0;32m     40\u001b[0m \u001b[39mfor\u001b[39;00m child \u001b[39min\u001b[39;00m node\u001b[39m.\u001b[39mchildren:\n\u001b[1;32m---> 41\u001b[0m     mutations \u001b[39m=\u001b[39m gen_var_tree(variable, child, mutations, node, depth\u001b[39m+\u001b[39;49m\u001b[39m1\u001b[39;49m)\n\u001b[0;32m     42\u001b[0m \u001b[39mreturn\u001b[39;00m mutations\n",
      "Cell \u001b[1;32mIn [24], line 39\u001b[0m, in \u001b[0;36mgen_var_tree\u001b[1;34m(variable, node, mutations, parent, depth)\u001b[0m\n\u001b[0;32m     37\u001b[0m \u001b[39mif\u001b[39;00m \u001b[39mnot\u001b[39;00m node: \n\u001b[0;32m     38\u001b[0m     \u001b[39mreturn\u001b[39;00m [] \n\u001b[1;32m---> 39\u001b[0m mutations \u001b[39m=\u001b[39m gen_var_tree_helper(variable, node, mutations, parent, depth)\n\u001b[0;32m     40\u001b[0m \u001b[39mfor\u001b[39;00m child \u001b[39min\u001b[39;00m node\u001b[39m.\u001b[39mchildren:\n\u001b[0;32m     41\u001b[0m     mutations \u001b[39m=\u001b[39m gen_var_tree(variable, child, mutations, node, depth\u001b[39m+\u001b[39m\u001b[39m1\u001b[39m)\n",
      "Cell \u001b[1;32mIn [24], line 30\u001b[0m, in \u001b[0;36mgen_var_tree_helper\u001b[1;34m(variable, root, mutations, parent, depth)\u001b[0m\n\u001b[0;32m     28\u001b[0m     \u001b[39melif\u001b[39;00m root\u001b[39m.\u001b[39mvariables[depth]\u001b[39m.\u001b[39mcondition \u001b[39m!=\u001b[39m parent\u001b[39m.\u001b[39mdata:\n\u001b[0;32m     29\u001b[0m         \u001b[39mprint\u001b[39m(\u001b[39m\"\u001b[39m\u001b[39mgen_var_tree_helper: condition mismatch\u001b[39m\u001b[39m\"\u001b[39m)\n\u001b[1;32m---> 30\u001b[0m     root\u001b[39m.\u001b[39;49mvariables[depth]\u001b[39m.\u001b[39;49mmodifications[variable] \u001b[39m=\u001b[39m mutation\n\u001b[0;32m     31\u001b[0m \u001b[39mreturn\u001b[39;00m mutations\n",
      "\u001b[1;31mAttributeError\u001b[0m: 'Mutation' object has no attribute 'modifications'"
     ]
    }
   ],
   "source": [
    "with open('source.c', 'r') as f:\n",
    "    source = f.read()\n",
    "tree = build_iftree(source)\n",
    "variable = 'a'\n",
    "gen_var_tree(variable, tree, [])\n",
    "print_iftree(tree)\n",
    "mutations = tree.children[1].children[1].children[0].variables[variable]\n",
    "print(mutations)\n",
    "print_mutation_tree(mutations, 0, variable, [])"
   ]
  },
  {
   "cell_type": "code",
   "execution_count": null,
   "metadata": {},
   "outputs": [
    {
     "name": "stdout",
     "output_type": "stream",
     "text": [
      "__root__ -> [] {'b': []}\n",
      "a = 10; -> [0] {'b': []}\n",
      "if (a < b) { -> [1] {'b': []}\n",
      "  a = a + 1;  -> [1, 0] {'b': [12 if a < b]}\n",
      "  b = 12; -> [1, 0] {'b': [12 if a < b]}\n",
      "  if (a > b) { -> [1, 1] {'b': [12 if a < b]}\n",
      "    a = a + 14; -> [1, 1, 0] {'b': [12 if a < b]}\n",
      "  }\n",
      "  c = 11; -> [1, 2] {'b': [12 if a < b]}\n",
      "}\n",
      "c = 123; -> [2] {'b': [12 if a < b]}\n",
      "[12 if a < b]\n",
      "if ( a < b ) begin\n",
      "  b <= 12\n",
      "end else begin\n",
      "  b <= b\n",
      "end\n"
     ]
    }
   ],
   "source": [
    "with open('source.c', 'r') as f:\n",
    "    source = f.read()\n",
    "tree = build_iftree(source)\n",
    "variable = 'b'\n",
    "gen_var_tree(variable, tree, [])\n",
    "print_iftree(tree)\n",
    "modifications = tree.children[2].variables[variable]\n",
    "print(modifications)\n",
    "print_mutation_tree(modifications, 0, variable, [])"
   ]
  },
  {
   "cell_type": "code",
   "execution_count": null,
   "metadata": {},
   "outputs": [
    {
     "name": "stdout",
     "output_type": "stream",
     "text": [
      "__root__ -> [] {'c': []}\n",
      "a = 10; -> [0] {'c': []}\n",
      "if (a < b) { -> [1] {'c': []}\n",
      "  a = a + 1;  -> [1, 0] {'c': []}\n",
      "  b = 12; -> [1, 0] {'c': []}\n",
      "  if (a > b) { -> [1, 1] {'c': []}\n",
      "    a = a + 14; -> [1, 1, 0] {'c': []}\n",
      "  }\n",
      "  c = 11; -> [1, 2] {'c': [11 if a < b]}\n",
      "}\n",
      "c = 123; -> [2] {'c': [11 if a < b, 123]}\n",
      "[11 if a < b, 123]\n",
      "if ( a < b ) begin\n",
      "  if ( __root__ ) begin\n",
      "    c <= 11 + 123\n",
      "  end else begin\n",
      "    c <= 11\n",
      "  end\n",
      "end else begin\n",
      "  if ( __root__ ) begin\n",
      "    c <= 123\n",
      "  end else begin\n",
      "    c <= c\n",
      "  end\n",
      "end\n"
     ]
    }
   ],
   "source": [
    "with open('source.c', 'r') as f:\n",
    "    source = f.read()\n",
    "tree = build_iftree(source)\n",
    "variable = 'c'\n",
    "gen_var_tree(variable, tree, [])\n",
    "print_iftree(tree)\n",
    "modifications = tree.children[2].variables[variable]\n",
    "print(modifications)\n",
    "print_mutation_tree(modifications, 0, variable, [])"
   ]
  },
  {
   "cell_type": "code",
   "execution_count": null,
   "metadata": {},
   "outputs": [
    {
     "name": "stdout",
     "output_type": "stream",
     "text": [
      "__root__ -> [] {'a': [], 'b': [], 'c': []}\n",
      "a = 10; -> [0] {'a': [10], 'b': [], 'c': []}\n",
      "if (a < b) { -> [1] {'a': [10], 'b': [], 'c': []}\n",
      "  a = a + 1;  -> [1, 0] {'a': [10, a + 1 if a < b], 'b': [12 if a < b], 'c': []}\n",
      "  b = 12; -> [1, 0] {'a': [10, a + 1 if a < b], 'b': [12 if a < b], 'c': []}\n",
      "  if (a > b) { -> [1, 1] {'a': [10, a + 1 if a < b], 'b': [12 if a < b], 'c': []}\n",
      "    a = a + 14; -> [1, 1, 0] {'a': [10, a + 1 if a < b, a + 14 if a > b], 'b': [12 if a < b], 'c': []}\n",
      "  }\n",
      "  c = 11; -> [1, 2] {'a': [10, a + 1 if a < b, a + 14 if a > b], 'b': [12 if a < b], 'c': [11 if a < b]}\n",
      "}\n",
      "c = 123; -> [2] {'a': [10, a + 1 if a < b, a + 14 if a > b], 'b': [12 if a < b], 'c': [11 if a < b, 123]}\n"
     ]
    }
   ],
   "source": [
    "with open('source.c', 'r') as f:\n",
    "    source = f.read()\n",
    "tree = build_iftree(source)\n",
    "gen_var_tree('a', tree, [])\n",
    "gen_var_tree('b', tree, [])\n",
    "gen_var_tree('c', tree, [])\n",
    "print_iftree(tree)"
   ]
  },
  {
   "cell_type": "code",
   "execution_count": null,
   "metadata": {},
   "outputs": [],
   "source": []
  },
  {
   "cell_type": "code",
   "execution_count": null,
   "metadata": {},
   "outputs": [],
   "source": []
  },
  {
   "cell_type": "code",
   "execution_count": null,
   "metadata": {},
   "outputs": [],
   "source": []
  }
 ],
 "metadata": {
  "kernelspec": {
   "display_name": "Python 3",
   "language": "python",
   "name": "python3"
  },
  "language_info": {
   "codemirror_mode": {
    "name": "ipython",
    "version": 3
   },
   "file_extension": ".py",
   "mimetype": "text/x-python",
   "name": "python",
   "nbconvert_exporter": "python",
   "pygments_lexer": "ipython3",
   "version": "3.10.7"
  },
  "orig_nbformat": 4,
  "vscode": {
   "interpreter": {
    "hash": "369f2c481f4da34e4445cda3fffd2e751bd1c4d706f27375911949ba6bb62e1c"
   }
  }
 },
 "nbformat": 4,
 "nbformat_minor": 2
}
