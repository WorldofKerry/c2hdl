{
 "cells": [
  {
   "cell_type": "code",
   "execution_count": 1,
   "metadata": {},
   "outputs": [],
   "source": [
    "import re\n",
    "\n",
    "def extract_if_block(source: str) -> tuple((str, str, str, str)):\n",
    "    \"\"\"\n",
    "    Extracts the first if block from the source code.\n",
    "    Returns a tuple of the code before the block, the condition, the content of the block, and the code after the block.\n",
    "    \"\"\"\n",
    "\n",
    "    indent_regex = re.compile(r'^\\s+', flags=re.MULTILINE)\n",
    "    try: \n",
    "        code_before_block = re.sub(indent_regex, '', source[:source.index('if')].strip())\n",
    "    except ValueError:\n",
    "        return source, None, None, None\n",
    "\n",
    "    condition_start = re.search('if\\s*\\(', source).end()\n",
    "    condition_end = source.index(')', condition_start)\n",
    "    condition = source[condition_start:condition_end].strip()\n",
    "    \n",
    "    # search for the end } by matching the number of { and } in the content\n",
    "    content_start = source.index('{', condition_end) + 1\n",
    "    brace_count = 1\n",
    "    for i, c in enumerate(source[content_start:]):\n",
    "        if c == '{':\n",
    "            brace_count += 1\n",
    "        elif c == '}':\n",
    "            brace_count -= 1\n",
    "            if brace_count == 0:\n",
    "                content_end = content_start + i\n",
    "                break\n",
    "\n",
    "    content = re.sub(indent_regex, '', source[content_start:content_end].strip())\n",
    "    all_code_after_block = re.sub(indent_regex, '', source[content_end+1:].strip())\n",
    "    return code_before_block, condition, content, all_code_after_block"
   ]
  },
  {
   "cell_type": "code",
   "execution_count": 2,
   "metadata": {},
   "outputs": [
    {
     "name": "stdout",
     "output_type": "stream",
     "text": [
      "================================ before: \n",
      "a = 10;\n",
      "================================ condition: \n",
      "a < b\n",
      "================================ content: \n",
      "a = a + 1; \n",
      "b = 12; \n",
      "if (a > b) {\n",
      "a = a + 14; \n",
      "}\n",
      "c = b + 11;\n",
      "================================ after: \n",
      "c = c + 5;\n"
     ]
    }
   ],
   "source": [
    "with open('source.c', 'r') as f:\n",
    "    source = f.read()\n",
    "code_before_block, condition, content, all_code_after_block = extract_if_block(source)\n",
    "print(\"================================ before: \")\n",
    "print(code_before_block)\n",
    "print(\"================================ condition: \")\n",
    "print(condition)\n",
    "print(\"================================ content: \")\n",
    "print(content)\n",
    "print(\"================================ after: \")\n",
    "print(all_code_after_block)"
   ]
  },
  {
   "cell_type": "code",
   "execution_count": 3,
   "metadata": {},
   "outputs": [],
   "source": [
    "class IfNode: \n",
    "    \"\"\"\n",
    "    Represents a node in the if tree.\n",
    "    \"\"\"\n",
    "    def __init__(self, data: str, children: list, depth: int, condition: bool=False, root: bool=False):\n",
    "        self.data: str = data\n",
    "        self.children: list[IfNode] = children\n",
    "        self.condition: bool = condition\n",
    "        self.variables: dict[str: str] = {} # {variable: modification}\n",
    "        self.depth: int = depth\n",
    "        self.root: bool = root"
   ]
  },
  {
   "cell_type": "code",
   "execution_count": 4,
   "metadata": {},
   "outputs": [],
   "source": [
    "def build_iftree_helper(parent: IfNode, content: str, depth: int) -> IfNode: \n",
    "    \"\"\"\n",
    "    Builds the if tree recursively.\n",
    "    \"\"\"\n",
    "    if not content: \n",
    "        return\n",
    "    code_before_block, condition, content, all_code_after_block = extract_if_block(content)\n",
    "    if code_before_block:\n",
    "        parent.children.append(IfNode(code_before_block, [], depth))\n",
    "    if condition: \n",
    "        wNode = IfNode(condition, [], depth, True)\n",
    "        parent.children.append(wNode)\n",
    "        build_iftree_helper(wNode, content, depth+1)\n",
    "        build_iftree_helper(parent, all_code_after_block, depth)\n",
    "    return parent\n",
    "\n",
    "def build_iftree(content: str) -> IfNode: \n",
    "    \"\"\"\n",
    "    Builds the if tree from the source code.\n",
    "    \"\"\"\n",
    "    wNode = IfNode('__root__', [], 0, True, True)\n",
    "    return build_iftree_helper(wNode, content, 1)"
   ]
  },
  {
   "cell_type": "code",
   "execution_count": 5,
   "metadata": {},
   "outputs": [],
   "source": [
    "def print_iftree(node: IfNode, indent: int=-1, childNum: list=[]) -> None:\n",
    "    \"\"\"\n",
    "    Prints the if tree, with indentation and child numbers for easier selection. \n",
    "    \"\"\"\n",
    "    if node.condition:\n",
    "        print('  '*indent + 'if (' + node.data + ') {', '->', 'depth:', node.depth, 'selection:', childNum, 'variables:', node.variables)\n",
    "    else: \n",
    "        for line in node.data.splitlines():\n",
    "            print('  '*indent + line, '->', 'selection:', childNum, 'variables:', node.variables)\n",
    "    for idx, child in enumerate(node.children):\n",
    "        print_iftree(child, indent+1, childNum + [idx]) \n",
    "    if node.condition:\n",
    "        print('  '*indent + '}')"
   ]
  },
  {
   "cell_type": "code",
   "execution_count": 6,
   "metadata": {},
   "outputs": [
    {
     "name": "stdout",
     "output_type": "stream",
     "text": [
      "if (__root__) { -> depth: 0 selection: [] variables: {}\n",
      "a = 10; -> selection: [0] variables: {}\n",
      "if (a < b) { -> depth: 1 selection: [1] variables: {}\n",
      "  a = a + 1;  -> selection: [1, 0] variables: {}\n",
      "  b = 12; -> selection: [1, 0] variables: {}\n",
      "  if (a > b) { -> depth: 2 selection: [1, 1] variables: {}\n",
      "    a = a + 14; -> selection: [1, 1, 0] variables: {}\n",
      "  }\n",
      "  c = b + 11; -> selection: [1, 2] variables: {}\n",
      "}\n",
      "c = c + 5; -> selection: [2] variables: {}\n",
      "}\n"
     ]
    }
   ],
   "source": [
    "with open('source.c', 'r') as f:\n",
    "    source = f.read()\n",
    "tree = build_iftree(source)\n",
    "print_iftree(tree)"
   ]
  },
  {
   "cell_type": "code",
   "execution_count": 7,
   "metadata": {},
   "outputs": [],
   "source": [
    "import re\n",
    "def extract_vars(code: str) -> list[str]:\n",
    "    \"\"\"\n",
    "    Extracts all variables from a line of code.\n",
    "    \"\"\"\n",
    "    # Extract variables that start with a letter\n",
    "    variables = re.findall(r'\\b[a-zA-Z]\\w*\\b', code)\n",
    "    # remove keywords in C, such as int, float, double, etc.\n",
    "    variables = [var for var in variables if var not in ['int', 'float', 'double', 'char', 'long', 'short', 'signed', 'unsigned', 'void', 'bool', 'true', 'false', 'if', 'else', 'while', 'for', 'do', 'switch', 'case', 'break', 'continue', 'return', 'goto', 'sizeof', 'typedef', 'struct', 'union', 'enum', 'static', 'extern', 'auto', 'register', 'const', 'volatile', 'inline', 'restrict', 'default', 'asm', 'alignas', 'alignof', 'atomic', 'noreturn', 'thread_local', 'complex', 'imaginary', 'NULL', 'offsetof', 'static_assert', 'wchar_t']]\n",
    "    # remove duplicates and sort\n",
    "    variables = list(dict.fromkeys(variables))\n",
    "    variables.sort()\n",
    "    return variables\n",
    "\n",
    "def extract_vars_from_iftree(node: IfNode) -> list[str]:\n",
    "    \"\"\"\n",
    "    Extracts all variables from the if tree.\n",
    "    \"\"\"\n",
    "    variables = []\n",
    "    for line in node.data.splitlines():\n",
    "        variables += extract_vars(line)\n",
    "    for child in node.children:\n",
    "        variables += extract_vars_from_iftree(child)\n",
    "    # remove duplicates and sort\n",
    "    variables = list(dict.fromkeys(variables))\n",
    "    variables.sort()\n",
    "    return variables"
   ]
  },
  {
   "cell_type": "code",
   "execution_count": 8,
   "metadata": {},
   "outputs": [
    {
     "name": "stdout",
     "output_type": "stream",
     "text": [
      "['a', 'b']\n",
      "['a', 'b', 'c']\n"
     ]
    }
   ],
   "source": [
    "with open('source.c', 'r') as f:\n",
    "    source = f.read()\n",
    "tree = build_iftree(source)\n",
    "test_string = 'int b = 1; int a = 2; int b = 3;'\n",
    "print(extract_vars(test_string))\n",
    "print(extract_vars_from_iftree(tree))"
   ]
  },
  {
   "cell_type": "code",
   "execution_count": 9,
   "metadata": {},
   "outputs": [],
   "source": [
    "def extract_modifications(variable: str, code: str) -> list[str]:\n",
    "    \"\"\"\n",
    "    Extracts all modifications of a variable in a line of code.\n",
    "    \"\"\"\n",
    "    # Extract modifications of the variable\n",
    "    modifications = re.findall(r'\\b' + variable + r'\\b\\s*=\\s*[^;]+', code)\n",
    "    # keep only the right side of the assignment\n",
    "    modifications = [re.sub(r'\\b' + variable + r'\\b\\s*=\\s*', '', modification) for modification in modifications]\n",
    "    return modifications"
   ]
  },
  {
   "cell_type": "code",
   "execution_count": 10,
   "metadata": {},
   "outputs": [
    {
     "name": "stdout",
     "output_type": "stream",
     "text": [
      "['10']\n",
      "['a + 1']\n"
     ]
    }
   ],
   "source": [
    "with open('source.c', 'r') as f:\n",
    "    source = f.read()\n",
    "tree = build_iftree(source)\n",
    "print(extract_modifications('a', tree.children[0].data))\n",
    "print(extract_modifications('a', tree.children[1].children[0].data))"
   ]
  },
  {
   "cell_type": "code",
   "execution_count": 11,
   "metadata": {},
   "outputs": [],
   "source": [
    "def gen_var_tree_helper(variable: str, root: IfNode, parent: IfNode, depth: int) -> None: \n",
    "    \"\"\"\n",
    "    Helper function for gen_var_tree.\n",
    "    \"\"\"\n",
    "    if not root:\n",
    "        return\n",
    "    if extract_modifications(variable, root.data): \n",
    "        root.variables[variable] = extract_modifications(variable, root.data)[0]\n",
    "\n",
    "def gen_var_tree(variable: str, node: IfNode, parent: IfNode=None, depth: int=0) -> None:\n",
    "    \"\"\"\n",
    "    Updates/mutates the variable property of the node and its children using pre-order traversal.\n",
    "    \"\"\"\n",
    "    if not node: \n",
    "        return [] \n",
    "    mutations = gen_var_tree_helper(variable, node, parent, depth)\n",
    "    for child in node.children:\n",
    "        mutations = gen_var_tree(variable, child, node, depth+1)\n",
    "    return mutations"
   ]
  },
  {
   "cell_type": "code",
   "execution_count": 12,
   "metadata": {},
   "outputs": [
    {
     "name": "stdout",
     "output_type": "stream",
     "text": [
      "if (__root__) { -> depth: 0 selection: [] variables: {}\n",
      "a = 10; -> selection: [0] variables: {'a': '10'}\n",
      "if (a < b) { -> depth: 1 selection: [1] variables: {}\n",
      "  a = a + 1;  -> selection: [1, 0] variables: {'a': 'a + 1', 'b': '12'}\n",
      "  b = 12; -> selection: [1, 0] variables: {'a': 'a + 1', 'b': '12'}\n",
      "  if (a > b) { -> depth: 2 selection: [1, 1] variables: {}\n",
      "    a = a + 14; -> selection: [1, 1, 0] variables: {'a': 'a + 14'}\n",
      "  }\n",
      "  c = b + 11; -> selection: [1, 2] variables: {'c': 'b + 11'}\n",
      "}\n",
      "c = c + 5; -> selection: [2] variables: {'c': 'c + 5'}\n",
      "}\n"
     ]
    }
   ],
   "source": [
    "with open('source.c', 'r') as f:\n",
    "    source = f.read()\n",
    "tree = build_iftree(source)\n",
    "variables = extract_vars_from_iftree(tree)\n",
    "for variable in variables:\n",
    "    gen_var_tree(variable, tree)\n",
    "print_iftree(tree)"
   ]
  },
  {
   "cell_type": "code",
   "execution_count": 14,
   "metadata": {},
   "outputs": [],
   "source": [
    "def combine_modifications(mutations: list[str], variable: str) -> str: \n",
    "    \"\"\"\n",
    "    Combines all mutations of a variable into a single string.\n",
    "    \"\"\"\n",
    "    prev_mutated = \"\"\n",
    "    while mutations: \n",
    "        mutation = mutations.pop(0)\n",
    "        if re.search(r'\\b' + variable + r'\\b', prev_mutated):\n",
    "            # if the variable is in the modification, replace it with the combined modification\n",
    "            prev_mutated = re.sub(r'\\b' + variable + r'\\b', prev_mutated, mutation)\n",
    "        else: \n",
    "            # if the variable is not in the modification, append it to the combined modification\n",
    "            if prev_mutated.strip():\n",
    "                # check if variable is inside the modification\n",
    "                if re.search(r'\\b' + variable + r'\\b', mutation):\n",
    "                    prev_mutated = re.sub(r'\\b' + variable + r'\\b', prev_mutated, mutation)\n",
    "                else: \n",
    "                    prev_mutated = mutation\n",
    "            else: \n",
    "                prev_mutated = mutation\n",
    "    if not prev_mutated.strip():\n",
    "        prev_mutated = variable\n",
    "    return prev_mutated"
   ]
  },
  {
   "cell_type": "code",
   "execution_count": 16,
   "metadata": {},
   "outputs": [
    {
     "name": "stdout",
     "output_type": "stream",
     "text": [
      "b * 3\n",
      "b * 3 + a + 2\n"
     ]
    }
   ],
   "source": [
    "test_modifications = ['a', 'a + 2', 'b * 3']\n",
    "print(combine_modifications(test_modifications, 'a'))\n",
    "test_modifications = ['a', 'a + 2', 'b * 3 + a']\n",
    "print(combine_modifications(test_modifications, 'a'))"
   ]
  },
  {
   "cell_type": "code",
   "execution_count": 17,
   "metadata": {},
   "outputs": [],
   "source": [
    "def make_list_of_mutations(root: IfNode, variable: str, decision_tree: list[bool]): \n",
    "    \"\"\"\n",
    "    Makes a list of all possible mutations of a variable using pre-order traversal.\n",
    "    \"\"\"\n",
    "    if not root: \n",
    "        return [] \n",
    "    mutations = []\n",
    "    if root.condition and decision_tree: \n",
    "        if decision_tree[0]: \n",
    "            for child in root.children:\n",
    "                mutations += make_list_of_mutations(child, variable, decision_tree[1:])\n",
    "    else: \n",
    "        if variable in root.variables:\n",
    "            mutations.append(root.variables[variable])\n",
    "    return mutations"
   ]
  },
  {
   "cell_type": "code",
   "execution_count": 20,
   "metadata": {},
   "outputs": [
    {
     "name": "stdout",
     "output_type": "stream",
     "text": [
      "['10', 'a + 1']\n",
      "10 + 1 + 14\n"
     ]
    }
   ],
   "source": [
    "with open('source.c', 'r') as f:\n",
    "    source = f.read()\n",
    "tree = build_iftree(source)\n",
    "variables = extract_vars_from_iftree(tree)\n",
    "for variable in variables:\n",
    "    gen_var_tree(variable, tree)\n",
    "mutations = make_list_of_mutations(tree, 'a', [True, True, False])\n",
    "print(mutations)\n",
    "mutations = make_list_of_mutations(tree, 'a', [True, True, True])\n",
    "print(combine_modifications(mutations, 'a'))"
   ]
  },
  {
   "cell_type": "code",
   "execution_count": 22,
   "metadata": {},
   "outputs": [
    {
     "name": "stdout",
     "output_type": "stream",
     "text": [
      "if ( 10 < b ) begin\n",
      "  if ( 10 + 1 > 12 ) begin\n",
      "    a <= 10 + 1 + 14\n",
      "    b <= 12\n",
      "    c <= 12 + 11 + 5\n",
      "  end else begin\n",
      "    a <= 10 + 1\n",
      "    b <= 12\n",
      "    c <= 12 + 11 + 5\n",
      "  end\n",
      "end else begin\n",
      "  if ( 10 > b ) begin\n",
      "    a <= 10\n",
      "    c <= c + 5\n",
      "  end else begin\n",
      "    a <= 10\n",
      "    c <= c + 5\n",
      "  end\n",
      "end\n"
     ]
    }
   ],
   "source": [
    "def print_mutation_tree(node: IfNode, index: int, decision_tree: list[bool], root: IfNode, parent: IfNode=None) -> None:\n",
    "    \"\"\"\n",
    "    Prints the mutation tree.\n",
    "    \"\"\"\n",
    "    if node.root: \n",
    "        for child in node.children:\n",
    "            print_mutation_tree(child, index, decision_tree + [True], root, node)\n",
    "        return\n",
    "    if not node.children and parent.condition and len(parent.children) == 1: \n",
    "        print_mutation(node, index, decision_tree, root)\n",
    "        return\n",
    "    if node.condition:\n",
    "        print_mutation_if(node, index, decision_tree, root)\n",
    "        for child in node.children:\n",
    "            print_mutation_tree(child, index+1, decision_tree + [True], root, node)\n",
    "        print_mutation_else(node, index)\n",
    "        for child in node.children:\n",
    "            print_mutation_tree(child, index+1, decision_tree + [False], root, node)\n",
    "        print_mutation_end(node, index)\n",
    "    \n",
    "def print_mutation_if(node: IfNode, index: int, decision_tree: list[bool], root: IfNode) -> None:\n",
    "    condition = \"\" + node.data\n",
    "    for variable in extract_vars_from_iftree(root):\n",
    "        # check if variable is in the condition\n",
    "        if re.search(r'\\b' + variable + r'\\b', node.data):\n",
    "            # if variable is in the condition, replace it with the combined modification\n",
    "            condition = re.sub(r'\\b' + variable + r'\\b', combine_modifications(make_list_of_mutations(root, variable, decision_tree), variable), condition)\n",
    "    print('  ' * (index) + 'if (', condition, ') begin')\n",
    "    return\n",
    "\n",
    "def print_mutation(node: IfNode, index: int, decision_tree: list[bool], root: IfNode) -> None:\n",
    "    for variable in extract_vars_from_iftree(root):\n",
    "        # print('  ' * (index) + variable, '<=', combine_modifications(make_list_of_mutations(root, variable, decision_tree), variable))\n",
    "        modification = combine_modifications(make_list_of_mutations(root, variable, decision_tree), variable)\n",
    "        for dependent_variable in extract_vars_from_iftree(root):\n",
    "            if dependent_variable != variable:\n",
    "                if re.search(r'\\b' + dependent_variable + r'\\b', modification):\n",
    "                    modification = re.sub(r'\\b' + dependent_variable + r'\\b', combine_modifications(make_list_of_mutations(root, dependent_variable, decision_tree), dependent_variable), modification)\n",
    "        if modification != variable:\n",
    "            print('  ' * (index) + variable, '<=', modification)\n",
    "    return\n",
    "\n",
    "def print_mutation_else(node: IfNode, index: int) -> None:\n",
    "    print('  ' * (index) + 'end else begin')\n",
    "    return\n",
    "\n",
    "def print_mutation_end(node: IfNode, index: int) -> None:\n",
    "    print('  ' * (index) + 'end')\n",
    "    return    \n",
    "\n",
    "with open('source.c', 'r') as f:\n",
    "    source = f.read()\n",
    "tree = build_iftree(source)\n",
    "variables = extract_vars_from_iftree(tree)\n",
    "for variable in variables:\n",
    "    gen_var_tree(variable, tree)\n",
    "print_mutation_tree(tree, 0, [], tree)"
   ]
  },
  {
   "cell_type": "code",
   "execution_count": null,
   "metadata": {},
   "outputs": [],
   "source": []
  }
 ],
 "metadata": {
  "kernelspec": {
   "display_name": "Python 3",
   "language": "python",
   "name": "python3"
  },
  "language_info": {
   "codemirror_mode": {
    "name": "ipython",
    "version": 3
   },
   "file_extension": ".py",
   "mimetype": "text/x-python",
   "name": "python",
   "nbconvert_exporter": "python",
   "pygments_lexer": "ipython3",
   "version": "3.10.7"
  },
  "orig_nbformat": 4,
  "vscode": {
   "interpreter": {
    "hash": "369f2c481f4da34e4445cda3fffd2e751bd1c4d706f27375911949ba6bb62e1c"
   }
  }
 },
 "nbformat": 4,
 "nbformat_minor": 2
}
