{
 "cells": [
  {
   "cell_type": "code",
   "execution_count": 1,
   "metadata": {},
   "outputs": [],
   "source": [
    "import re\n",
    "\n",
    "def extract_if_block(source: str) -> tuple((str, str, str, str)):\n",
    "    indent_regex = re.compile(r'^\\s+', flags=re.MULTILINE)\n",
    "    try: \n",
    "        code_before_block = re.sub(indent_regex, '', source[:source.index('if')].strip())\n",
    "    except ValueError:\n",
    "        return source, None, None, None\n",
    "\n",
    "    condition_start = re.search('if\\s*\\(', source).end()\n",
    "    condition_end = source.index(')', condition_start)\n",
    "    condition = source[condition_start:condition_end].strip()\n",
    "    \n",
    "    # search for the end } by matching the number of { and } in the content\n",
    "    content_start = source.index('{', condition_end) + 1\n",
    "    brace_count = 1\n",
    "    for i, c in enumerate(source[content_start:]):\n",
    "        if c == '{':\n",
    "            brace_count += 1\n",
    "        elif c == '}':\n",
    "            brace_count -= 1\n",
    "            if brace_count == 0:\n",
    "                content_end = content_start + i\n",
    "                break\n",
    "\n",
    "    content = re.sub(indent_regex, '', source[content_start:content_end].strip())\n",
    "    all_code_after_block = re.sub(indent_regex, '', source[content_end+1:].strip())\n",
    "    return code_before_block, condition, content, all_code_after_block"
   ]
  },
  {
   "cell_type": "code",
   "execution_count": 2,
   "metadata": {},
   "outputs": [
    {
     "name": "stdout",
     "output_type": "stream",
     "text": [
      "================================ before: \n",
      "a = 10;\n",
      "================================ condition: \n",
      "a < b\n",
      "================================ content: \n",
      "a = a + 1; \n",
      "b = 12; \n",
      "if (a > b) {\n",
      "a = a + 14; \n",
      "}\n",
      "c = 11;\n",
      "================================ after: \n",
      "c = 123;\n"
     ]
    }
   ],
   "source": [
    "with open('source.c', 'r') as f:\n",
    "    source = f.read()\n",
    "code_before_block, condition, content, all_code_after_block = extract_if_block(source)\n",
    "print(\"================================ before: \")\n",
    "print(code_before_block)\n",
    "print(\"================================ condition: \")\n",
    "print(condition)\n",
    "print(\"================================ content: \")\n",
    "print(content)\n",
    "print(\"================================ after: \")\n",
    "print(all_code_after_block)"
   ]
  },
  {
   "cell_type": "code",
   "execution_count": 3,
   "metadata": {},
   "outputs": [],
   "source": [
    "class IfNode: \n",
    "    def __init__(self, data: str, children: list, condition: bool=False):\n",
    "        self.data: str = data\n",
    "        self.children: list[IfNode] = children\n",
    "        self.condition: bool = condition\n",
    "        self.variables: dict[str, Mutation] = {}"
   ]
  },
  {
   "cell_type": "code",
   "execution_count": 4,
   "metadata": {},
   "outputs": [],
   "source": [
    "def build_tree_helper(parent: IfNode, content: str) -> IfNode:  \n",
    "    if not content: \n",
    "        return\n",
    "    code_before_block, condition, content, all_code_after_block = extract_if_block(content)\n",
    "    if code_before_block:\n",
    "        parent.children.append(IfNode(code_before_block, []))\n",
    "    if condition: \n",
    "        wNode = IfNode(condition, [], True)\n",
    "        parent.children.append(wNode)\n",
    "        build_tree_helper(wNode, content)\n",
    "        build_tree_helper(parent, all_code_after_block)\n",
    "    return parent\n",
    "\n",
    "def build_tree(content: str) -> IfNode: \n",
    "    wNode = IfNode('__root__', [])\n",
    "    return build_tree_helper(wNode, content)"
   ]
  },
  {
   "cell_type": "code",
   "execution_count": 5,
   "metadata": {},
   "outputs": [],
   "source": [
    "def print_tree(node: IfNode, indent=-1, childNum=[]) -> None:\n",
    "    if node.condition:\n",
    "        print('  '*indent + 'if (' + node.data + ') {', '->', childNum, node.variables)\n",
    "    else: \n",
    "        for line in node.data.splitlines():\n",
    "            print('  '*indent + line, '->', childNum, node.variables)\n",
    "    for idx, child in enumerate(node.children):\n",
    "        print_tree(child, indent+1, childNum + [idx]) \n",
    "    if node.condition:\n",
    "        print('  '*indent + '}')"
   ]
  },
  {
   "cell_type": "code",
   "execution_count": 6,
   "metadata": {},
   "outputs": [
    {
     "name": "stdout",
     "output_type": "stream",
     "text": [
      "__root__ -> [] {}\n",
      "a = 10; -> [0] {}\n",
      "if (a < b) { -> [1] {}\n",
      "  a = a + 1;  -> [1, 0] {}\n",
      "  b = 12; -> [1, 0] {}\n",
      "  if (a > b) { -> [1, 1] {}\n",
      "    a = a + 14; -> [1, 1, 0] {}\n",
      "  }\n",
      "  c = 11; -> [1, 2] {}\n",
      "}\n",
      "c = 123; -> [2] {}\n"
     ]
    }
   ],
   "source": [
    "with open('source.c', 'r') as f:\n",
    "    source = f.read()\n",
    "tree = build_tree(source)\n",
    "print_tree(tree)"
   ]
  },
  {
   "cell_type": "code",
   "execution_count": 7,
   "metadata": {},
   "outputs": [],
   "source": [
    "import re\n",
    "\n",
    "def extract_variables(code):\n",
    "    # Extract variables that start with a letter\n",
    "    variables = re.findall(r'\\b[a-zA-Z]\\w*\\b', code)\n",
    "    # remove keywords in C, such as int, float, double, etc.\n",
    "    variables = [var for var in variables if var not in ['int', 'float', 'double', 'char', 'long', 'short', 'unsigned', 'signed', 'void', 'struct', 'union', 'enum', 'typedef', 'const', 'volatile', 'auto', 'register', 'static', 'extern', 'inline', 'restrict', 'bool', 'complex', 'imaginary', 'break', 'case', 'continue', 'default', 'do', 'else', 'for', 'goto', 'if', 'return', 'sizeof', 'switch', 'while', 'alignas', 'alignof', 'atomic', 'noreturn', 'static_assert', 'thread_local', 'true', 'false', 'NULL']]\n",
    "    return variables\n",
    "\n",
    "def extract_variables_from_tree(node):\n",
    "    variables = []\n",
    "    for line in node.data.splitlines():\n",
    "        variables += extract_variables(line)\n",
    "    for child in node.children:\n",
    "        variables += extract_variables_from_tree(child)\n",
    "    # remove duplicates and sort\n",
    "    variables = list(dict.fromkeys(variables))\n",
    "    variables.sort()\n",
    "    return variables"
   ]
  },
  {
   "cell_type": "code",
   "execution_count": 8,
   "metadata": {},
   "outputs": [
    {
     "data": {
      "text/plain": [
       "['a', 'b']"
      ]
     },
     "execution_count": 8,
     "metadata": {},
     "output_type": "execute_result"
    }
   ],
   "source": [
    "with open('source.c', 'r') as f:\n",
    "    source = f.read()\n",
    "tree = build_tree(source)\n",
    "extract_variables_from_tree(tree.children[1].children[0])"
   ]
  },
  {
   "cell_type": "code",
   "execution_count": 9,
   "metadata": {},
   "outputs": [],
   "source": [
    "def extract_modifications(variable, code): \n",
    "    # Extract modifications of the variable\n",
    "    modifications = re.findall(r'\\b' + variable + r'\\b\\s*=\\s*[^;]+', code)\n",
    "    # keep only the right side of the assignment\n",
    "    modifications = [re.sub(r'\\b' + variable + r'\\b\\s*=\\s*', '', modification) for modification in modifications]\n",
    "    return modifications"
   ]
  },
  {
   "cell_type": "code",
   "execution_count": 10,
   "metadata": {},
   "outputs": [
    {
     "name": "stdout",
     "output_type": "stream",
     "text": [
      "['10']\n",
      "['a + 1']\n"
     ]
    }
   ],
   "source": [
    "with open('source.c', 'r') as f:\n",
    "    source = f.read()\n",
    "tree = build_tree(source)\n",
    "print(extract_modifications('a', tree.children[0].data))\n",
    "print(extract_modifications('a', tree.children[1].children[0].data))"
   ]
  },
  {
   "cell_type": "code",
   "execution_count": 11,
   "metadata": {},
   "outputs": [],
   "source": [
    "class Mutation: \n",
    "    def __init__(self, modification: str, condition: str=None):\n",
    "        self.modification: str = modification\n",
    "        self.condition: str = condition\n",
    "    \n",
    "    def __repr__(self):\n",
    "        if self.condition == None or not self.condition.strip() or self.condition == '__root__':\n",
    "            return self.modification\n",
    "        return self.modification + ' if ' + self.condition\n",
    "\n",
    "def generate_variable_tree_dep(variable, root, modifications): \n",
    "    if root == None or root.children == []:\n",
    "        return None\n",
    "    for child in root.children: \n",
    "        if variable in extract_variables(child.data): \n",
    "            if extract_modifications(variable, child.data): \n",
    "                modifications.append(Mutation(extract_modifications(variable, child.data)[0], root.data)) # TODO: fix the fact that extract_modifications returns a list, perhaps by combining all modifications into one\n",
    "        if variable in extract_variables_from_tree(child):\n",
    "            generate_variable_tree_dep(variable, child, modifications) \n",
    "            local_modifications = [Mutation(modification.modification, modification.condition) for modification in modifications]\n",
    "            # check if variable is in the first modification using regex\n",
    "            if local_modifications and local_modifications[0].modification.strip() and re.search(r'\\b' + variable + r'\\b', local_modifications[0].modification):\n",
    "                # append the variable itself as the first modification\n",
    "                local_modifications.insert(0, Mutation(variable, root.data))\n",
    "            child.variables[variable] = local_modifications\n",
    "    return root"
   ]
  },
  {
   "cell_type": "code",
   "execution_count": 12,
   "metadata": {},
   "outputs": [
    {
     "name": "stdout",
     "output_type": "stream",
     "text": [
      "__root__ -> [] {}\n",
      "a = 10; -> [0] {'a': [10]}\n",
      "if (a < b) { -> [1] {'a': [10, a + 1 if a < b, a + 14 if a > b]}\n",
      "  a = a + 1;  -> [1, 0] {'a': [10, a + 1 if a < b]}\n",
      "  b = 12; -> [1, 0] {'a': [10, a + 1 if a < b]}\n",
      "  if (a > b) { -> [1, 1] {'a': [10, a + 1 if a < b, a + 14 if a > b]}\n",
      "    a = a + 14; -> [1, 1, 0] {'a': [10, a + 1 if a < b, a + 14 if a > b]}\n",
      "  }\n",
      "  c = 11; -> [1, 2] {}\n",
      "}\n",
      "c = 123; -> [2] {}\n"
     ]
    }
   ],
   "source": [
    "with open('source.c', 'r') as f:\n",
    "    source = f.read()\n",
    "tree = build_tree(source)\n",
    "generate_variable_tree_dep('a', tree, [])\n",
    "print_tree(tree)"
   ]
  },
  {
   "cell_type": "code",
   "execution_count": 13,
   "metadata": {},
   "outputs": [],
   "source": [
    "# class MutationNode(object):\n",
    "#     def __init__(self, condition=None, mutated=None, true_branch=None, false_branch=None):\n",
    "#         self.condition = condition\n",
    "#         self.mutated = mutated\n",
    "#         self.true_branch = true_branch\n",
    "#         self.false_branch = false_branch\n",
    "\n",
    "# def combine_modifications(variable, modifications): \n",
    "#     mutated = \"\"\n",
    "#     return combine_modifications_helper(variable, mutated, modifications)\n",
    "\n",
    "# def combine_modifications_helper(variable: str, prev_mutated: str, mutations: list[Mutation]) -> MutationNode:\n",
    "#     if not mutations: \n",
    "#         return None\n",
    "#     mutation = mutations[0]\n",
    "#     node = MutationNode(condition=mutation.condition)\n",
    "#     if re.search(r'\\b' + variable + r'\\b', prev_mutated):\n",
    "#         # if the variable is in the modification, replace it with the combined modification\n",
    "#         node.mutated = re.sub(r'\\b' + variable + r'\\b', prev_mutated, mutation.modification)\n",
    "#     else: \n",
    "#         # if the variable is not in the modification, append it to the combined modification\n",
    "#         if prev_mutated.strip():\n",
    "#             # check if variable is inside the modification\n",
    "#             if re.search(r'\\b' + variable + r'\\b', mutation.modification):\n",
    "#                 node.mutated = re.sub(r'\\b' + variable + r'\\b', prev_mutated, mutation.modification)\n",
    "#             else: \n",
    "#                 node.mutated = prev_mutated + ' + ' + mutation.modification\n",
    "#         else: \n",
    "#             node.mutated = mutation.modification\n",
    "#     if mutations[1:]:\n",
    "#         node.true_branch = combine_modifications_helper(variable, node.mutated, mutations[1:].copy())\n",
    "#         if node.condition.strip():\n",
    "#             node.false_branch = combine_modifications_helper(variable, prev_mutated, mutations[1:].copy())\n",
    "#     return node\n",
    "    "
   ]
  },
  {
   "cell_type": "code",
   "execution_count": 15,
   "metadata": {},
   "outputs": [
    {
     "name": "stdout",
     "output_type": "stream",
     "text": [
      "[10, a + 1 if a < b, a + 14 if a > b]\n",
      "if ( __root__ ) begin\n",
      "  if ( a < b ) begin\n",
      "    if ( a > b ) begin\n",
      "      a <= 10 + 1 + 14\n",
      "    end else begin\n",
      "      a <= 10 + 1\n",
      "    end\n",
      "  end else begin\n",
      "    if ( a > b ) begin\n",
      "      a <= 10 + 14\n",
      "    end else begin\n",
      "      a <= 10\n",
      "    end\n",
      "  end\n",
      "end else begin\n",
      "  if ( a < b ) begin\n",
      "    if ( a > b ) begin\n",
      "      a <= a + 1 + 14\n",
      "    end else begin\n",
      "      a <= a + 1\n",
      "    end\n",
      "  end else begin\n",
      "    if ( a > b ) begin\n",
      "      a <= a + 14\n",
      "    end else begin\n",
      "      a <= a\n",
      "    end\n",
      "  end\n",
      "end\n"
     ]
    }
   ],
   "source": [
    "# test for combine_modifications(variables, tree)\n",
    "with open('source.c', 'r') as f:\n",
    "    source = f.read()\n",
    "tree = build_tree(source)\n",
    "variable = 'a'\n",
    "tree = generate_variable_tree_dep(variable, tree, [])\n",
    "# print_tree(tree)\n",
    "modifications = tree.children[1].children[1].children[0].variables[variable]\n",
    "# print(modifications)\n",
    "# combined = combine_modifications(variable, modifications)\n",
    "# print(combined)\n",
    "\n",
    "# def print_mutation_tree_dep(node: MutationNode, variable: str, indent: int = 0):\n",
    "#     if node and node.true_branch == None and node.false_branch == None:\n",
    "#         print('  ' * (indent-1) + variable , '<=', node.mutated)\n",
    "#         return   \n",
    "#     if not node: \n",
    "#         return\n",
    "#     if node.true_branch and node.false_branch and node.true_branch.mutated == node.false_branch.mutated:\n",
    "#         print('  ' * (indent) + variable , '<=', node.true_branch.mutated)\n",
    "#         return\n",
    "#     if node.condition == '__root__': \n",
    "#         node.condition = ''\n",
    "#     if node.condition.strip(): \n",
    "#         print('  ' * (indent-1) + 'if (', node.condition, ') begin')\n",
    "#     indent += 1\n",
    "#     if node.condition.strip(): \n",
    "#         print_mutation_tree_dep(node.true_branch, variable, indent=indent+1)\n",
    "#     else: \n",
    "#         print_mutation_tree_dep(node.true_branch, variable, indent=indent)\n",
    "#     if node.condition.strip():\n",
    "#         print('  ' * (indent-2) + 'end else begin')        \n",
    "#         print_mutation_tree_dep(node.false_branch, variable, indent=indent+1)\n",
    "#         print('  ' * (indent-2) + 'end')\n",
    "\n",
    "# print_mutation_tree_dep(combined, variable)\n",
    "\n",
    "def print_mutation_if(mutation: Mutation, indent: int) -> None: \n",
    "    print('  ' * (indent) + 'if (', mutation.condition, ') begin')\n",
    "    return\n",
    "\n",
    "def print_mutation_else(mutation: Mutation, indent: int) -> None: \n",
    "    print('  ' * (indent) + 'end else begin')\n",
    "    return\n",
    "\n",
    "def print_mutation_end(mutation: Mutation, indent: int) -> None: \n",
    "    print('  ' * (indent) + 'end')\n",
    "    return\n",
    "\n",
    "def print_mutation_no_condition(variable, mutations: list[Mutation], decision_tree: list[bool], indent: int) -> None: \n",
    "    mutations = [mutation for mutation, decision in zip(mutations, decision_tree) if decision]\n",
    "    prev_mutated = \"\"\n",
    "    while mutations: \n",
    "        mutation = mutations.pop(0)\n",
    "        if re.search(r'\\b' + variable + r'\\b', prev_mutated):\n",
    "            # if the variable is in the modification, replace it with the combined modification\n",
    "            prev_mutated = re.sub(r'\\b' + variable + r'\\b', prev_mutated, mutation.modification)\n",
    "        else: \n",
    "            # if the variable is not in the modification, append it to the combined modification\n",
    "            if prev_mutated.strip():\n",
    "                # check if variable is inside the modification\n",
    "                if re.search(r'\\b' + variable + r'\\b', mutation.modification):\n",
    "                    prev_mutated = re.sub(r'\\b' + variable + r'\\b', prev_mutated, mutation.modification)\n",
    "                else: \n",
    "                    prev_mutated = prev_mutated + ' + ' + mutation.modification\n",
    "            else: \n",
    "                prev_mutated = mutation.modification\n",
    "    if not prev_mutated.strip():\n",
    "        prev_mutated = variable\n",
    "    print('  ' * (indent) + variable , '<=', prev_mutated)\n",
    "    return\n",
    "\n",
    "def print_mutation_tree(mutations: list[Mutation], variable: str, decision_tree: list[bool], indent: int) -> None: \n",
    "    if indent == len(mutations):\n",
    "        print_mutation_no_condition(variable, mutations, decision_tree, indent)\n",
    "        return\n",
    "    mutation = mutations[indent]\n",
    "    # print('  ' * (indent) + \"mutations:\", mutations)\n",
    "    # print('  ' * (indent) + \"decision_tree:\", decision_tree)\n",
    "    if mutation.condition.strip():\n",
    "        print_mutation_if(mutation, indent=indent)\n",
    "        print_mutation_tree(mutations, variable, decision_tree + [True], indent+1)\n",
    "        print_mutation_else(mutation, indent=indent)\n",
    "        print_mutation_tree(mutations, variable, decision_tree + [False], indent+1)\n",
    "        print_mutation_end(mutation, indent=indent)\n",
    "    else:\n",
    "        # print_mutation_no_condition(mutation, indent)\n",
    "        # print_mutation_tree(mutations, variable, indent)\n",
    "        pass\n",
    "\n",
    "print(modifications)\n",
    "print_mutation_tree(modifications, 'a', [], 0)\n",
    "    \n"
   ]
  },
  {
   "cell_type": "code",
   "execution_count": null,
   "metadata": {},
   "outputs": [],
   "source": []
  },
  {
   "cell_type": "code",
   "execution_count": null,
   "metadata": {},
   "outputs": [],
   "source": []
  },
  {
   "cell_type": "code",
   "execution_count": null,
   "metadata": {},
   "outputs": [],
   "source": []
  }
 ],
 "metadata": {
  "kernelspec": {
   "display_name": "Python 3",
   "language": "python",
   "name": "python3"
  },
  "language_info": {
   "codemirror_mode": {
    "name": "ipython",
    "version": 3
   },
   "file_extension": ".py",
   "mimetype": "text/x-python",
   "name": "python",
   "nbconvert_exporter": "python",
   "pygments_lexer": "ipython3",
   "version": "3.10.7"
  },
  "orig_nbformat": 4,
  "vscode": {
   "interpreter": {
    "hash": "369f2c481f4da34e4445cda3fffd2e751bd1c4d706f27375911949ba6bb62e1c"
   }
  }
 },
 "nbformat": 4,
 "nbformat_minor": 2
}
