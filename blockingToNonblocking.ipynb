{
 "cells": [
  {
   "cell_type": "code",
   "execution_count": 16,
   "metadata": {},
   "outputs": [],
   "source": [
    "import re\n",
    "\n",
    "def extract_if_block(source: str) -> tuple((str, str, str, str)):\n",
    "    indent_regex = re.compile(r'^\\s+', flags=re.MULTILINE)\n",
    "    try: \n",
    "        code_before_block = re.sub(indent_regex, '', source[:source.index('if')].strip())\n",
    "    except ValueError:\n",
    "        return source, None, None, None\n",
    "\n",
    "    condition_start = re.search('if\\s*\\(', source).end()\n",
    "    condition_end = source.index(')', condition_start)\n",
    "    condition = source[condition_start:condition_end].strip()\n",
    "    \n",
    "    # search for the end } by matching the number of { and } in the content\n",
    "    content_start = source.index('{', condition_end) + 1\n",
    "    brace_count = 1\n",
    "    for i, c in enumerate(source[content_start:]):\n",
    "        if c == '{':\n",
    "            brace_count += 1\n",
    "        elif c == '}':\n",
    "            brace_count -= 1\n",
    "            if brace_count == 0:\n",
    "                content_end = content_start + i\n",
    "                break\n",
    "\n",
    "    content = re.sub(indent_regex, '', source[content_start:content_end].strip())\n",
    "    all_code_after_block = re.sub(indent_regex, '', source[content_end+1:].strip())\n",
    "    return code_before_block, condition, content, all_code_after_block"
   ]
  },
  {
   "cell_type": "code",
   "execution_count": 17,
   "metadata": {},
   "outputs": [
    {
     "name": "stdout",
     "output_type": "stream",
     "text": [
      "================================ before: \n",
      "a = 10;\n",
      "================================ condition: \n",
      "a < b\n",
      "================================ content: \n",
      "a = a + 1; \n",
      "b = 12; \n",
      "if (a > b) {\n",
      "a = a + 14; \n",
      "}\n",
      "c = 11;\n",
      "================================ after: \n",
      "c = 123;\n"
     ]
    }
   ],
   "source": [
    "with open('source.c', 'r') as f:\n",
    "    source = f.read()\n",
    "code_before_block, condition, content, all_code_after_block = extract_if_block(source)\n",
    "print(\"================================ before: \")\n",
    "print(code_before_block)\n",
    "print(\"================================ condition: \")\n",
    "print(condition)\n",
    "print(\"================================ content: \")\n",
    "print(content)\n",
    "print(\"================================ after: \")\n",
    "print(all_code_after_block)"
   ]
  },
  {
   "cell_type": "code",
   "execution_count": 18,
   "metadata": {},
   "outputs": [],
   "source": [
    "class IfNode: \n",
    "    def __init__(self, data: str, children: list, condition: bool=False):\n",
    "        self.data: str = data\n",
    "        self.children: list[IfNode] = children\n",
    "        self.condition: bool = condition\n",
    "        self.variables: dict[str, list[Mutation]] = {}"
   ]
  },
  {
   "cell_type": "code",
   "execution_count": 19,
   "metadata": {},
   "outputs": [],
   "source": [
    "def build_tree_helper(parent: IfNode, content: str) -> IfNode:  \n",
    "    if not content: \n",
    "        return\n",
    "    code_before_block, condition, content, all_code_after_block = extract_if_block(content)\n",
    "    if code_before_block:\n",
    "        parent.children.append(IfNode(code_before_block, []))\n",
    "    if condition: \n",
    "        wNode = IfNode(condition, [], True)\n",
    "        parent.children.append(wNode)\n",
    "        build_tree_helper(wNode, content)\n",
    "        build_tree_helper(parent, all_code_after_block)\n",
    "    return parent\n",
    "\n",
    "def build_tree(content: str) -> IfNode: \n",
    "    wNode = IfNode('__root__', [])\n",
    "    return build_tree_helper(wNode, content)"
   ]
  },
  {
   "cell_type": "code",
   "execution_count": 20,
   "metadata": {},
   "outputs": [],
   "source": [
    "def print_tree(node: IfNode, indent=-1, childNum=[]) -> None:\n",
    "    if node.condition:\n",
    "        print('  '*indent + 'if (' + node.data + ') {', '->', childNum, node.variables)\n",
    "    else: \n",
    "        for line in node.data.splitlines():\n",
    "            print('  '*indent + line, '->', childNum, node.variables)\n",
    "    for idx, child in enumerate(node.children):\n",
    "        print_tree(child, indent+1, childNum + [idx]) \n",
    "    if node.condition:\n",
    "        print('  '*indent + '}')"
   ]
  },
  {
   "cell_type": "code",
   "execution_count": 21,
   "metadata": {},
   "outputs": [
    {
     "name": "stdout",
     "output_type": "stream",
     "text": [
      "__root__ -> [] {}\n",
      "a = 10; -> [0] {}\n",
      "if (a < b) { -> [1] {}\n",
      "  a = a + 1;  -> [1, 0] {}\n",
      "  b = 12; -> [1, 0] {}\n",
      "  if (a > b) { -> [1, 1] {}\n",
      "    a = a + 14; -> [1, 1, 0] {}\n",
      "  }\n",
      "  c = 11; -> [1, 2] {}\n",
      "}\n",
      "c = 123; -> [2] {}\n"
     ]
    }
   ],
   "source": [
    "with open('source.c', 'r') as f:\n",
    "    source = f.read()\n",
    "tree = build_tree(source)\n",
    "print_tree(tree)"
   ]
  },
  {
   "cell_type": "code",
   "execution_count": 22,
   "metadata": {},
   "outputs": [],
   "source": [
    "import re\n",
    "\n",
    "def extract_variables(code):\n",
    "    # Extract variables that start with a letter\n",
    "    variables = re.findall(r'\\b[a-zA-Z]\\w*\\b', code)\n",
    "    # remove keywords in C, such as int, float, double, etc.\n",
    "    variables = [var for var in variables if var not in ['int', 'float', 'double', 'char', 'long', 'short', 'unsigned', 'signed', 'void', 'struct', 'union', 'enum', 'typedef', 'const', 'volatile', 'auto', 'register', 'static', 'extern', 'inline', 'restrict', 'bool', 'complex', 'imaginary', 'break', 'case', 'continue', 'default', 'do', 'else', 'for', 'goto', 'if', 'return', 'sizeof', 'switch', 'while', 'alignas', 'alignof', 'atomic', 'noreturn', 'static_assert', 'thread_local', 'true', 'false', 'NULL']]\n",
    "    return variables\n",
    "\n",
    "def extract_variables_from_tree(node):\n",
    "    variables = []\n",
    "    for line in node.data.splitlines():\n",
    "        variables += extract_variables(line)\n",
    "    for child in node.children:\n",
    "        variables += extract_variables_from_tree(child)\n",
    "    # remove duplicates and sort\n",
    "    variables = list(dict.fromkeys(variables))\n",
    "    variables.sort()\n",
    "    return variables"
   ]
  },
  {
   "cell_type": "code",
   "execution_count": 23,
   "metadata": {},
   "outputs": [
    {
     "data": {
      "text/plain": [
       "['a', 'b']"
      ]
     },
     "execution_count": 23,
     "metadata": {},
     "output_type": "execute_result"
    }
   ],
   "source": [
    "with open('source.c', 'r') as f:\n",
    "    source = f.read()\n",
    "tree = build_tree(source)\n",
    "extract_variables_from_tree(tree.children[1].children[0])"
   ]
  },
  {
   "cell_type": "code",
   "execution_count": 24,
   "metadata": {},
   "outputs": [],
   "source": [
    "def extract_modifications(variable, code): \n",
    "    # Extract modifications of the variable\n",
    "    modifications = re.findall(r'\\b' + variable + r'\\b\\s*=\\s*[^;]+', code)\n",
    "    # keep only the right side of the assignment\n",
    "    modifications = [re.sub(r'\\b' + variable + r'\\b\\s*=\\s*', '', modification) for modification in modifications]\n",
    "    return modifications"
   ]
  },
  {
   "cell_type": "code",
   "execution_count": 25,
   "metadata": {},
   "outputs": [
    {
     "name": "stdout",
     "output_type": "stream",
     "text": [
      "['10']\n",
      "['a + 1']\n"
     ]
    }
   ],
   "source": [
    "with open('source.c', 'r') as f:\n",
    "    source = f.read()\n",
    "tree = build_tree(source)\n",
    "print(extract_modifications('a', tree.children[0].data))\n",
    "print(extract_modifications('a', tree.children[1].children[0].data))"
   ]
  },
  {
   "cell_type": "code",
   "execution_count": 26,
   "metadata": {},
   "outputs": [],
   "source": [
    "class Mutation: \n",
    "    def __init__(self, modification, condition):\n",
    "        self.modification = modification\n",
    "        self.condition = condition\n",
    "    \n",
    "    def __repr__(self):\n",
    "        if self.condition == None or not self.condition.strip():\n",
    "            return self.modification\n",
    "        if self.condition == '__root__':\n",
    "            return self.modification\n",
    "        return self.modification + ' if ' + self.condition\n",
    "\n",
    "# def generate_variable_tree_dep(variable, root, modifications): \n",
    "#     if root == None or root.children == []:\n",
    "#         return None\n",
    "#     for child in root.children: \n",
    "#         if variable in extract_variables(child.data): \n",
    "#             if extract_modifications(variable, child.data): \n",
    "#                 modifications.append(Mutation(extract_modifications(variable, child.data)[0], root.data)) # TODO: fix the fact that extract_modifications returns a list\n",
    "#         if variable in extract_variables_from_tree(child):\n",
    "#             generate_variable_tree_dep(variable, child, modifications) \n",
    "#             local_modifications = [Mutation(modification.modification, modification.condition) for modification in modifications]\n",
    "#             # check if variable is in the first modification using regex\n",
    "#             if local_modifications and local_modifications[0].modification.strip() and re.search(r'\\b' + variable + r'\\b', local_modifications[0].modification):\n",
    "#                 # append the variable itself as the first modification\n",
    "#                 local_modifications.insert(0, Mutation(variable, root.data))\n",
    "#             child.variables[variable] = local_modifications\n",
    "#     return root\n",
    "\n",
    "def work(variable: str, root: IfNode, mutations: list[Mutation], parent: IfNode) -> list[Mutation]: \n",
    "    if not root:\n",
    "        return []\n",
    "    mutations = [Mutation(modification.modification, modification.condition) for modification in mutations]\n",
    "    if extract_modifications(variable, root.data) and not root.condition: \n",
    "        mutations.append(Mutation(extract_modifications(variable, root.data)[0], parent.data))\n",
    "    root.variables[variable] = mutations\n",
    "    return mutations\n",
    "\n",
    "def generate_variable_tree(variable: str, node: IfNode, mutations: list[Mutation], parent: IfNode=None) -> list[Mutation]: \n",
    "    if not node: \n",
    "        return [] \n",
    "    mutations = work(variable, node, mutations, parent)\n",
    "    for child in node.children:\n",
    "        mutations = generate_variable_tree(variable, child, mutations, node)\n",
    "    return mutations"
   ]
  },
  {
   "cell_type": "code",
   "execution_count": 27,
   "metadata": {},
   "outputs": [
    {
     "name": "stdout",
     "output_type": "stream",
     "text": [
      "__root__ -> [] {'a': []}\n",
      "a = 10; -> [0] {'a': [10]}\n",
      "if (a < b) { -> [1] {'a': [10]}\n",
      "  a = a + 1;  -> [1, 0] {'a': [10, a + 1 if a < b]}\n",
      "  b = 12; -> [1, 0] {'a': [10, a + 1 if a < b]}\n",
      "  if (a > b) { -> [1, 1] {'a': [10, a + 1 if a < b]}\n",
      "    a = a + 14; -> [1, 1, 0] {'a': [10, a + 1 if a < b, a + 14 if a > b]}\n",
      "  }\n",
      "  c = 11; -> [1, 2] {'a': [10, a + 1 if a < b, a + 14 if a > b]}\n",
      "}\n",
      "c = 123; -> [2] {'a': [10, a + 1 if a < b, a + 14 if a > b]}\n"
     ]
    }
   ],
   "source": [
    "with open('source.c', 'r') as f:\n",
    "    source = f.read()\n",
    "tree = build_tree(source)\n",
    "generate_variable_tree('a', tree, [])\n",
    "print_tree(tree)"
   ]
  },
  {
   "cell_type": "code",
   "execution_count": 28,
   "metadata": {},
   "outputs": [],
   "source": [
    "def get_combined_mutations(variable: str, mutations: list[Mutation]) -> str: \n",
    "    prev_mutated = \"\"\n",
    "    while mutations: \n",
    "        mutation = mutations.pop(0)\n",
    "        if re.search(r'\\b' + variable + r'\\b', prev_mutated):\n",
    "            # if the variable is in the modification, replace it with the combined modification\n",
    "            prev_mutated = re.sub(r'\\b' + variable + r'\\b', prev_mutated, mutation.modification)\n",
    "        else: \n",
    "            # if the variable is not in the modification, append it to the combined modification\n",
    "            if prev_mutated.strip():\n",
    "                # check if variable is inside the modification\n",
    "                if re.search(r'\\b' + variable + r'\\b', mutation.modification):\n",
    "                    prev_mutated = re.sub(r'\\b' + variable + r'\\b', prev_mutated, mutation.modification)\n",
    "                else: \n",
    "                    prev_mutated = prev_mutated + ' + ' + mutation.modification\n",
    "            else: \n",
    "                prev_mutated = mutation.modification\n",
    "    if not prev_mutated.strip():\n",
    "        prev_mutated = variable\n",
    "    return prev_mutated\n",
    "\n",
    "def print_mutation_if(variable: str, mutations: list[Mutation], decision_tree: list[bool], index: int) -> None: \n",
    "    mutation = mutations[index]\n",
    "    mutations = [mutation for mutation, decision in zip(mutations, decision_tree) if decision]\n",
    "    prev_mutated = get_combined_mutations(variable, mutations)\n",
    "    mutation.condition = re.sub(r'\\b' + variable + r'\\b', prev_mutated, mutation.condition)\n",
    "    print('  ' * (index) + 'if (', mutation.condition, ') begin')\n",
    "    return\n",
    "\n",
    "def print_mutation_else(mutations: list[Mutation], index: int) -> None: \n",
    "    print('  ' * (index) + 'end else begin')\n",
    "    return\n",
    "\n",
    "def print_mutation_end(mutations: list[Mutation], index: int) -> None: \n",
    "    print('  ' * (index) + 'end')\n",
    "    return\n",
    "\n",
    "def print_mutation_no_condition(variable: str, mutations: list[Mutation], decision_tree: list[bool], index: int) -> None: \n",
    "    mutations = [mutation for mutation, decision in zip(mutations, decision_tree) if decision]\n",
    "    prev_mutated = get_combined_mutations(variable, mutations)\n",
    "    print('  ' * (index) + variable , '<=', prev_mutated)\n",
    "    return\n",
    "\n",
    "def print_mutation_tree(mutations: list[Mutation], variable: str, decision_tree: list[bool], index: int) -> None: \n",
    "    if index == len(mutations):\n",
    "        print_mutation_no_condition(variable, mutations, decision_tree, index)\n",
    "        return\n",
    "    mutation = mutations[index]\n",
    "    if mutation.condition.strip():\n",
    "        print_mutation_if(variable, mutations, decision_tree, index)\n",
    "        print_mutation_tree(mutations, variable, decision_tree + [True], index+1)\n",
    "        print_mutation_else(mutations, index)\n",
    "        print_mutation_tree(mutations, variable, decision_tree + [False], index+1)\n",
    "        print_mutation_end(mutations, index)"
   ]
  },
  {
   "cell_type": "code",
   "execution_count": 29,
   "metadata": {},
   "outputs": [
    {
     "name": "stdout",
     "output_type": "stream",
     "text": [
      "[10, a + 1 if a < b, a + 14 if a > b]\n",
      "if ( __root__ ) begin\n",
      "  if ( 10 < b ) begin\n",
      "    if ( 10 + 1 > b ) begin\n",
      "      a <= 10 + 1 + 14\n",
      "    end else begin\n",
      "      a <= 10 + 1\n",
      "    end\n",
      "  end else begin\n",
      "    if ( 10 + 1 > b ) begin\n",
      "      a <= 10 + 14\n",
      "    end else begin\n",
      "      a <= 10\n",
      "    end\n",
      "  end\n",
      "end else begin\n",
      "  if ( 10 < b ) begin\n",
      "    if ( 10 + 1 > b ) begin\n",
      "      a <= a + 1 + 14\n",
      "    end else begin\n",
      "      a <= a + 1\n",
      "    end\n",
      "  end else begin\n",
      "    if ( 10 + 1 > b ) begin\n",
      "      a <= a + 14\n",
      "    end else begin\n",
      "      a <= a\n",
      "    end\n",
      "  end\n",
      "end\n"
     ]
    }
   ],
   "source": [
    "# test for combine_modifications(variables, tree)\n",
    "with open('source.c', 'r') as f:\n",
    "    source = f.read()\n",
    "tree = build_tree(source)\n",
    "variable = 'a'\n",
    "generate_variable_tree(variable, tree, [])\n",
    "modifications = tree.children[1].children[1].children[0].variables[variable]\n",
    "print(modifications)\n",
    "print_mutation_tree(modifications, variable, [], 0)    "
   ]
  },
  {
   "cell_type": "code",
   "execution_count": 32,
   "metadata": {},
   "outputs": [
    {
     "name": "stdout",
     "output_type": "stream",
     "text": [
      "__root__ -> [] {'b': []}\n",
      "a = 10; -> [0] {'b': []}\n",
      "if (a < b) { -> [1] {'b': []}\n",
      "  a = a + 1;  -> [1, 0] {'b': [12 if a < b]}\n",
      "  b = 12; -> [1, 0] {'b': [12 if a < b]}\n",
      "  if (a > b) { -> [1, 1] {'b': [12 if a < b]}\n",
      "    a = a + 14; -> [1, 1, 0] {'b': [12 if a < b]}\n",
      "  }\n",
      "  c = 11; -> [1, 2] {'b': [12 if a < b]}\n",
      "}\n",
      "c = 123; -> [2] {'b': [12 if a < b]}\n",
      "[12 if a < b]\n",
      "if ( a < b ) begin\n",
      "  b <= 12\n",
      "end else begin\n",
      "  b <= b\n",
      "end\n"
     ]
    }
   ],
   "source": [
    "# test for combine_modifications(variables, tree)\n",
    "with open('source.c', 'r') as f:\n",
    "    source = f.read()\n",
    "tree = build_tree(source)\n",
    "variable = 'b'\n",
    "generate_variable_tree(variable, tree, [])\n",
    "print_tree(tree)\n",
    "modifications = tree.children[2].variables[variable]\n",
    "print(modifications)\n",
    "print_mutation_tree(modifications, variable, [], 0)    "
   ]
  },
  {
   "cell_type": "code",
   "execution_count": null,
   "metadata": {},
   "outputs": [],
   "source": []
  },
  {
   "cell_type": "code",
   "execution_count": null,
   "metadata": {},
   "outputs": [],
   "source": []
  },
  {
   "cell_type": "code",
   "execution_count": null,
   "metadata": {},
   "outputs": [],
   "source": []
  }
 ],
 "metadata": {
  "kernelspec": {
   "display_name": "Python 3",
   "language": "python",
   "name": "python3"
  },
  "language_info": {
   "codemirror_mode": {
    "name": "ipython",
    "version": 3
   },
   "file_extension": ".py",
   "mimetype": "text/x-python",
   "name": "python",
   "nbconvert_exporter": "python",
   "pygments_lexer": "ipython3",
   "version": "3.10.7"
  },
  "orig_nbformat": 4,
  "vscode": {
   "interpreter": {
    "hash": "369f2c481f4da34e4445cda3fffd2e751bd1c4d706f27375911949ba6bb62e1c"
   }
  }
 },
 "nbformat": 4,
 "nbformat_minor": 2
}
