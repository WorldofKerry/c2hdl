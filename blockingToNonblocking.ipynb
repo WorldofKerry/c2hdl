{
 "cells": [
  {
   "cell_type": "code",
   "execution_count": 1,
   "metadata": {},
   "outputs": [],
   "source": [
    "import re\n",
    "\n",
    "def extract_if_block(source: str) -> tuple((str, str, str, str)):\n",
    "    indent_regex = re.compile(r'^\\s+', flags=re.MULTILINE)\n",
    "    try: \n",
    "        code_before_block = re.sub(indent_regex, '', source[:source.index('if')].strip())\n",
    "    except ValueError:\n",
    "        return source, None, None, None\n",
    "\n",
    "    condition_start = re.search('if\\s*\\(', source).end()\n",
    "    condition_end = source.index(')', condition_start)\n",
    "    condition = source[condition_start:condition_end].strip()\n",
    "    \n",
    "    # search for the end } by matching the number of { and } in the content\n",
    "    content_start = source.index('{', condition_end) + 1\n",
    "    brace_count = 1\n",
    "    for i, c in enumerate(source[content_start:]):\n",
    "        if c == '{':\n",
    "            brace_count += 1\n",
    "        elif c == '}':\n",
    "            brace_count -= 1\n",
    "            if brace_count == 0:\n",
    "                content_end = content_start + i\n",
    "                break\n",
    "\n",
    "    content = re.sub(indent_regex, '', source[content_start:content_end].strip())\n",
    "    all_code_after_block = re.sub(indent_regex, '', source[content_end+1:].strip())\n",
    "    return code_before_block, condition, content, all_code_after_block"
   ]
  },
  {
   "cell_type": "code",
   "execution_count": 2,
   "metadata": {},
   "outputs": [
    {
     "name": "stdout",
     "output_type": "stream",
     "text": [
      "================================ before: \n",
      "a = 10;\n",
      "================================ condition: \n",
      "a > b\n",
      "================================ content: \n",
      "a = a + 1; \n",
      "b = 12; \n",
      "if (a > b) {\n",
      "a = a + 14; \n",
      "}\n",
      "c = 11;\n",
      "================================ after: \n",
      "c = 123;\n"
     ]
    }
   ],
   "source": [
    "with open('source.c', 'r') as f:\n",
    "    source = f.read()\n",
    "code_before_block, condition, content, all_code_after_block = extract_if_block(source)\n",
    "print(\"================================ before: \")\n",
    "print(code_before_block)\n",
    "print(\"================================ condition: \")\n",
    "print(condition)\n",
    "print(\"================================ content: \")\n",
    "print(content)\n",
    "print(\"================================ after: \")\n",
    "print(all_code_after_block)"
   ]
  },
  {
   "cell_type": "code",
   "execution_count": 3,
   "metadata": {},
   "outputs": [],
   "source": [
    "class IfNode: \n",
    "    def __init__(self, data, children, condition=False):\n",
    "        self.data = data\n",
    "        self.children = children\n",
    "        self.condition = condition\n",
    "        self.variables = {}"
   ]
  },
  {
   "cell_type": "code",
   "execution_count": 4,
   "metadata": {},
   "outputs": [],
   "source": [
    "def build_tree_helper(parent: IfNode, content: str) -> IfNode:  \n",
    "    if not content: \n",
    "        return\n",
    "    code_before_block, condition, content, all_code_after_block = extract_if_block(content)\n",
    "    if code_before_block:\n",
    "        parent.children.append(IfNode(code_before_block, []))\n",
    "    if condition: \n",
    "        wNode = IfNode(condition, [], True)\n",
    "        parent.children.append(wNode)\n",
    "        build_tree_helper(wNode, content)\n",
    "        build_tree_helper(parent, all_code_after_block)\n",
    "    return parent\n",
    "\n",
    "def build_tree(content: str) -> IfNode: \n",
    "    wNode = IfNode('Root', [])\n",
    "    return build_tree_helper(wNode, content)"
   ]
  },
  {
   "cell_type": "code",
   "execution_count": 5,
   "metadata": {},
   "outputs": [],
   "source": [
    "def print_tree(node: IfNode, indent=-1, childNum=[]) -> None:\n",
    "    if node.condition:\n",
    "        print('  '*indent + 'if (' + node.data + ') {', '->', childNum)\n",
    "    else: \n",
    "        for line in node.data.splitlines():\n",
    "            print('  '*indent + line, '->', childNum)\n",
    "    for idx, child in enumerate(node.children):\n",
    "        print_tree(child, indent+1, childNum + [idx]) \n",
    "    if node.condition:\n",
    "        print('  '*indent + '}')"
   ]
  },
  {
   "cell_type": "code",
   "execution_count": 6,
   "metadata": {},
   "outputs": [
    {
     "name": "stdout",
     "output_type": "stream",
     "text": [
      "Root -> []\n",
      "a = 10; -> [0]\n",
      "if (a > b) { -> [1]\n",
      "  a = a + 1;  -> [1, 0]\n",
      "  b = 12; -> [1, 0]\n",
      "  if (a > b) { -> [1, 1]\n",
      "    a = a + 14; -> [1, 1, 0]\n",
      "  }\n",
      "  c = 11; -> [1, 2]\n",
      "}\n",
      "c = 123; -> [2]\n"
     ]
    }
   ],
   "source": [
    "with open('source.c', 'r') as f:\n",
    "    source = f.read()\n",
    "tree = build_tree(source)\n",
    "print_tree(tree)"
   ]
  },
  {
   "cell_type": "code",
   "execution_count": 7,
   "metadata": {},
   "outputs": [],
   "source": [
    "import re\n",
    "\n",
    "def extract_variables(code: str) -> set:\n",
    "    # Extract variables that start with a letter\n",
    "    variables = re.findall(r'\\b[a-zA-Z]\\w*\\b', code)\n",
    "    # remove keywords in C, such as int, float, double, etc.\n",
    "    variables = [var for var in variables if var not in ['int', 'float', 'double', 'char', 'long', 'short', 'unsigned', 'signed', 'void', 'struct', 'union', 'enum', 'typedef', 'const', 'volatile', 'auto', 'register', 'static', 'extern', 'inline', 'restrict', 'bool', 'complex', 'imaginary', 'break', 'case', 'continue', 'default', 'do', 'else', 'for', 'goto', 'if', 'return', 'sizeof', 'switch', 'while', 'alignas', 'alignof', 'atomic', 'noreturn', 'static_assert', 'thread_local', 'true', 'false', 'NULL']]\n",
    "    # remove duplicates\n",
    "    variables = set(variables)\n",
    "    return variables"
   ]
  },
  {
   "cell_type": "code",
   "execution_count": 8,
   "metadata": {},
   "outputs": [
    {
     "data": {
      "text/plain": [
       "{'a', 'b'}"
      ]
     },
     "execution_count": 8,
     "metadata": {},
     "output_type": "execute_result"
    }
   ],
   "source": [
    "with open('source.c', 'r') as f:\n",
    "    source = f.read()\n",
    "tree = build_tree(source)\n",
    "extract_variables(tree.children[1].children[0].data)"
   ]
  },
  {
   "cell_type": "code",
   "execution_count": null,
   "metadata": {},
   "outputs": [],
   "source": []
  }
 ],
 "metadata": {
  "kernelspec": {
   "display_name": "Python 3",
   "language": "python",
   "name": "python3"
  },
  "language_info": {
   "codemirror_mode": {
    "name": "ipython",
    "version": 3
   },
   "file_extension": ".py",
   "mimetype": "text/x-python",
   "name": "python",
   "nbconvert_exporter": "python",
   "pygments_lexer": "ipython3",
   "version": "3.10.7"
  },
  "orig_nbformat": 4,
  "vscode": {
   "interpreter": {
    "hash": "369f2c481f4da34e4445cda3fffd2e751bd1c4d706f27375911949ba6bb62e1c"
   }
  }
 },
 "nbformat": 4,
 "nbformat_minor": 2
}
